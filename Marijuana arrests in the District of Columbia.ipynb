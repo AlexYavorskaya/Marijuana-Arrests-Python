{
 "cells": [
  {
   "attachments": {},
   "cell_type": "markdown",
   "id": "826bca99",
   "metadata": {},
   "source": [
    "# Marijuana arrests in the District of Columbia\n",
    "\n",
    "**The *primary objective* of the project was to discover patterns and investigate individual-specific and offense-specific data concerning the individuals who have been arrested.**\n"
   ]
  },
  {
   "cell_type": "markdown",
   "id": "63599068",
   "metadata": {},
   "source": [
    "**Description of the DATA**\n",
    "\n",
    "In the District of Columbia, the laws related to the recreational use and possession of marijuana have changed at two milestones: the effective dates of the Marijuana Possession Decriminalization Amendment Act of 2014 on July 17, 2014, and of Initiative 71 on February 26, 2015 (https://mpdc.dc.gov/marijuana). Due to privacy considerations, exact CCNs and arrest numbers for these arrest datasets are not provided. In lieu, hash numbers are provided for CNN which allows individuals to determine whether there are multiple arrests associated with one event. Additionally, arrest numbers can be linked directly to an individual and therefore DC government does not provide this more generally, but again as hash numbers.\n",
    "\n",
    "This data includes arrests made by the Metropolitan Police Department (MPD). The data represents individuals arrested with a marijuana charge, regardless of whether there was a more serious secondary charge. If an arrestee was charged with multiple marijuana charges, the arrest is only counted once under the more serious charge type (Distribution > Possession with Intent to Distribute > Possession > Public Consumption).\n",
    "\n",
    "MPD collects race and ethnicity data according to the United States Census Bureau standards (https://www.census.gov/topics/population/race/about.html). Hispanic, which was previously categorized under the Race field prior to August 2015, is now captured under Ethnicity. All records prior to August 2015 have been updated to “Unknown (Race), Hispanic (Ethnicity)”. Race and ethnicity data are based on officer observation, which may or may not be accurate.\n",
    "\n",
    "MPD cannot release exact addresses to the general public unless proof of ownership or subpoena is submitted. The GeoX and GeoY values represent the block location (approximately 232 ft. radius) as of the date of the arrest. Due to the Department’s redistricting efforts in 2012 and 2017, data may not be comparable in some years.\n",
    "\n",
    "Arrestee age is calculated based on the number of days between the self-reported or verified date of birth (DOB) of the arrestee and the date of the arrest; DOB data may not be accurate if selfreported or if the arrestee refused to provide it.\n",
    "\n",
    "Due to the sensitive nature of juvenile data and to protect the arrestee’s confidentiality, any arrest records for defendants under the age of 18 have been coded as “Juvenile” for the following fields:\n",
    "\n",
    "• Arrest Time\n",
    "\n",
    "• CCN\n",
    "\n",
    "• Age\n",
    "\n",
    "• Offense Location Block GeoX/Y\n",
    "\n",
    "• Defendant Race\n",
    "\n",
    "• Defendant Ethnicity\n",
    "\n",
    "• Defendant Sex\n",
    "\n",
    "• Arrest Location Block Address\n",
    "\n",
    "• Arrest Location Block GeoX/Y\n",
    "\n",
    "This data may not match other marijuana data requests that may have included all law enforcement agencies in the District, or only the most serious charge. Figures are subject to change due to record sealing, expungements, and data quality audits.\n",
    "\n",
    "###### DOCUMENTATION: https://www.kaggle.com/datasets/utkarshx27/marijuana-arrests-in-columbia"
   ]
  },
  {
   "cell_type": "code",
   "execution_count": 1,
   "id": "2168bba1",
   "metadata": {},
   "outputs": [
    {
     "data": {
      "text/html": [
       "        <script type=\"text/javascript\">\n",
       "        window.PlotlyConfig = {MathJaxConfig: 'local'};\n",
       "        if (window.MathJax) {MathJax.Hub.Config({SVG: {font: \"STIX-Web\"}});}\n",
       "        if (typeof require !== 'undefined') {\n",
       "        require.undef(\"plotly\");\n",
       "        requirejs.config({\n",
       "            paths: {\n",
       "                'plotly': ['https://cdn.plot.ly/plotly-2.9.0.min']\n",
       "            }\n",
       "        });\n",
       "        require(['plotly'], function(Plotly) {\n",
       "            window._Plotly = Plotly;\n",
       "        });\n",
       "        }\n",
       "        </script>\n",
       "        "
      ]
     },
     "metadata": {},
     "output_type": "display_data"
    }
   ],
   "source": [
    "import numpy as np\n",
    "import pandas as pd\n",
    "import seaborn as sns\n",
    "import matplotlib.pyplot as plt\n",
    "%matplotlib inline\n",
    "from plotly.offline import download_plotlyjs,init_notebook_mode,plot,iplot\n",
    "init_notebook_mode(connected=True)\n",
    "from collections import Counter\n",
    "from wordcloud import WordCloud, STOPWORDS"
   ]
  },
  {
   "cell_type": "code",
   "execution_count": 2,
   "id": "cbe25901",
   "metadata": {},
   "outputs": [
    {
     "data": {
      "text/html": [
       "<div>\n",
       "<style scoped>\n",
       "    .dataframe tbody tr th:only-of-type {\n",
       "        vertical-align: middle;\n",
       "    }\n",
       "\n",
       "    .dataframe tbody tr th {\n",
       "        vertical-align: top;\n",
       "    }\n",
       "\n",
       "    .dataframe thead th {\n",
       "        text-align: right;\n",
       "    }\n",
       "</style>\n",
       "<table border=\"1\" class=\"dataframe\">\n",
       "  <thead>\n",
       "    <tr style=\"text-align: right;\">\n",
       "      <th></th>\n",
       "      <th>TYPE</th>\n",
       "      <th>ADULT_JUVENILE</th>\n",
       "      <th>YEAR</th>\n",
       "      <th>DATETIME</th>\n",
       "      <th>CCN</th>\n",
       "      <th>AGE</th>\n",
       "      <th>OFFENSE_DISTRICT</th>\n",
       "      <th>OFFENSE_PSA</th>\n",
       "      <th>OFFENSE_BLOCKX</th>\n",
       "      <th>OFFENSE_BLOCKY</th>\n",
       "      <th>...</th>\n",
       "      <th>ADDRESS</th>\n",
       "      <th>ARREST_BLOCKX</th>\n",
       "      <th>ARREST_BLOCKY</th>\n",
       "      <th>GIS_ID</th>\n",
       "      <th>CREATOR</th>\n",
       "      <th>CREATED</th>\n",
       "      <th>EDITOR</th>\n",
       "      <th>EDITED</th>\n",
       "      <th>OBJECTID</th>\n",
       "      <th>GLOBALID</th>\n",
       "    </tr>\n",
       "  </thead>\n",
       "  <tbody>\n",
       "    <tr>\n",
       "      <th>0</th>\n",
       "      <td>Possession</td>\n",
       "      <td>Adult</td>\n",
       "      <td>2012</td>\n",
       "      <td>2012/01/01 06:00:00+00</td>\n",
       "      <td>b';\\xc8k~\\xa4iJ'</td>\n",
       "      <td>20.0</td>\n",
       "      <td>5D</td>\n",
       "      <td>501.0</td>\n",
       "      <td>399700.0</td>\n",
       "      <td>137900.0</td>\n",
       "      <td>...</td>\n",
       "      <td>FLORIDA AVE NE</td>\n",
       "      <td>401400.0</td>\n",
       "      <td>136900.0</td>\n",
       "      <td>MARIJUANA_ARRESTS_1</td>\n",
       "      <td>JLAY</td>\n",
       "      <td>2022/10/18 21:51:23+00</td>\n",
       "      <td>JLAY</td>\n",
       "      <td>2022/10/18 21:51:23+00</td>\n",
       "      <td>12481</td>\n",
       "      <td>{4654D30A-5B56-4E19-8FC2-B19CC723C747}</td>\n",
       "    </tr>\n",
       "    <tr>\n",
       "      <th>1</th>\n",
       "      <td>Possession</td>\n",
       "      <td>Adult</td>\n",
       "      <td>2012</td>\n",
       "      <td>2012/01/01 06:00:00+00</td>\n",
       "      <td>b';\\xc8k~\\xa4iJ'</td>\n",
       "      <td>23.0</td>\n",
       "      <td>5D</td>\n",
       "      <td>501.0</td>\n",
       "      <td>399700.0</td>\n",
       "      <td>137900.0</td>\n",
       "      <td>...</td>\n",
       "      <td>FLORIDA AVE NE</td>\n",
       "      <td>401400.0</td>\n",
       "      <td>136900.0</td>\n",
       "      <td>MARIJUANA_ARRESTS_2</td>\n",
       "      <td>JLAY</td>\n",
       "      <td>2022/10/18 21:51:23+00</td>\n",
       "      <td>JLAY</td>\n",
       "      <td>2022/10/18 21:51:23+00</td>\n",
       "      <td>12482</td>\n",
       "      <td>{1C0EBA86-27EC-4B8E-8ABB-6EFFF03A0AA2}</td>\n",
       "    </tr>\n",
       "    <tr>\n",
       "      <th>2</th>\n",
       "      <td>Possession</td>\n",
       "      <td>Adult</td>\n",
       "      <td>2012</td>\n",
       "      <td>2012/01/01 06:00:00+00</td>\n",
       "      <td>b't6\\xa0\\xac\\xec`\\xa4'</td>\n",
       "      <td>46.0</td>\n",
       "      <td>7D</td>\n",
       "      <td>707.0</td>\n",
       "      <td>399700.0</td>\n",
       "      <td>130600.0</td>\n",
       "      <td>...</td>\n",
       "      <td>3300 BLOCK OF BROTHERS PL SE</td>\n",
       "      <td>399700.0</td>\n",
       "      <td>130600.0</td>\n",
       "      <td>MARIJUANA_ARRESTS_3</td>\n",
       "      <td>JLAY</td>\n",
       "      <td>2022/10/18 21:51:23+00</td>\n",
       "      <td>JLAY</td>\n",
       "      <td>2022/10/18 21:51:23+00</td>\n",
       "      <td>12483</td>\n",
       "      <td>{88080D68-CFA3-41E6-AA69-5DB7F950A134}</td>\n",
       "    </tr>\n",
       "    <tr>\n",
       "      <th>3</th>\n",
       "      <td>Possession</td>\n",
       "      <td>Adult</td>\n",
       "      <td>2012</td>\n",
       "      <td>2012/01/01 09:35:00+00</td>\n",
       "      <td>b'\\xbe\\x1d\\xa7\\xf5\\xffWx'</td>\n",
       "      <td>30.0</td>\n",
       "      <td>6D</td>\n",
       "      <td>605.0</td>\n",
       "      <td>403300.0</td>\n",
       "      <td>134500.0</td>\n",
       "      <td>...</td>\n",
       "      <td>700 BLOCK OF 32ND ST SE</td>\n",
       "      <td>NaN</td>\n",
       "      <td>NaN</td>\n",
       "      <td>MARIJUANA_ARRESTS_4</td>\n",
       "      <td>JLAY</td>\n",
       "      <td>2022/10/18 21:51:23+00</td>\n",
       "      <td>JLAY</td>\n",
       "      <td>2022/10/18 21:51:23+00</td>\n",
       "      <td>12484</td>\n",
       "      <td>{7769980A-5F36-4B3C-91CF-D1A3A94CE52E}</td>\n",
       "    </tr>\n",
       "    <tr>\n",
       "      <th>4</th>\n",
       "      <td>Possession with intent to distribute</td>\n",
       "      <td>Adult</td>\n",
       "      <td>2012</td>\n",
       "      <td>2012/01/02 19:40:00+00</td>\n",
       "      <td>b'\\xbb\\xc0\\x8e\\x94\\x81\\xac\\xcd'</td>\n",
       "      <td>29.0</td>\n",
       "      <td>6D</td>\n",
       "      <td>604.0</td>\n",
       "      <td>406400.0</td>\n",
       "      <td>135300.0</td>\n",
       "      <td>...</td>\n",
       "      <td>5300 BLOCK OF B ST SE</td>\n",
       "      <td>NaN</td>\n",
       "      <td>NaN</td>\n",
       "      <td>MARIJUANA_ARRESTS_5</td>\n",
       "      <td>JLAY</td>\n",
       "      <td>2022/10/18 21:51:23+00</td>\n",
       "      <td>JLAY</td>\n",
       "      <td>2022/10/18 21:51:23+00</td>\n",
       "      <td>12485</td>\n",
       "      <td>{5D5BEE85-DF16-41A1-BB49-0D16D0EE1320}</td>\n",
       "    </tr>\n",
       "  </tbody>\n",
       "</table>\n",
       "<p>5 rows × 27 columns</p>\n",
       "</div>"
      ],
      "text/plain": [
       "                                   TYPE ADULT_JUVENILE  YEAR  \\\n",
       "0                            Possession          Adult  2012   \n",
       "1                            Possession          Adult  2012   \n",
       "2                            Possession          Adult  2012   \n",
       "3                            Possession          Adult  2012   \n",
       "4  Possession with intent to distribute          Adult  2012   \n",
       "\n",
       "                 DATETIME                              CCN   AGE  \\\n",
       "0  2012/01/01 06:00:00+00                 b';\\xc8k~\\xa4iJ'  20.0   \n",
       "1  2012/01/01 06:00:00+00                 b';\\xc8k~\\xa4iJ'  23.0   \n",
       "2  2012/01/01 06:00:00+00           b't6\\xa0\\xac\\xec`\\xa4'  46.0   \n",
       "3  2012/01/01 09:35:00+00        b'\\xbe\\x1d\\xa7\\xf5\\xffWx'  30.0   \n",
       "4  2012/01/02 19:40:00+00  b'\\xbb\\xc0\\x8e\\x94\\x81\\xac\\xcd'  29.0   \n",
       "\n",
       "  OFFENSE_DISTRICT  OFFENSE_PSA  OFFENSE_BLOCKX  OFFENSE_BLOCKY  ...  \\\n",
       "0               5D        501.0        399700.0        137900.0  ...   \n",
       "1               5D        501.0        399700.0        137900.0  ...   \n",
       "2               7D        707.0        399700.0        130600.0  ...   \n",
       "3               6D        605.0        403300.0        134500.0  ...   \n",
       "4               6D        604.0        406400.0        135300.0  ...   \n",
       "\n",
       "                        ADDRESS ARREST_BLOCKX ARREST_BLOCKY  \\\n",
       "0                FLORIDA AVE NE      401400.0      136900.0   \n",
       "1                FLORIDA AVE NE      401400.0      136900.0   \n",
       "2  3300 BLOCK OF BROTHERS PL SE      399700.0      130600.0   \n",
       "3       700 BLOCK OF 32ND ST SE           NaN           NaN   \n",
       "4         5300 BLOCK OF B ST SE           NaN           NaN   \n",
       "\n",
       "                GIS_ID CREATOR                 CREATED EDITOR  \\\n",
       "0  MARIJUANA_ARRESTS_1    JLAY  2022/10/18 21:51:23+00   JLAY   \n",
       "1  MARIJUANA_ARRESTS_2    JLAY  2022/10/18 21:51:23+00   JLAY   \n",
       "2  MARIJUANA_ARRESTS_3    JLAY  2022/10/18 21:51:23+00   JLAY   \n",
       "3  MARIJUANA_ARRESTS_4    JLAY  2022/10/18 21:51:23+00   JLAY   \n",
       "4  MARIJUANA_ARRESTS_5    JLAY  2022/10/18 21:51:23+00   JLAY   \n",
       "\n",
       "                   EDITED  OBJECTID                                GLOBALID  \n",
       "0  2022/10/18 21:51:23+00     12481  {4654D30A-5B56-4E19-8FC2-B19CC723C747}  \n",
       "1  2022/10/18 21:51:23+00     12482  {1C0EBA86-27EC-4B8E-8ABB-6EFFF03A0AA2}  \n",
       "2  2022/10/18 21:51:23+00     12483  {88080D68-CFA3-41E6-AA69-5DB7F950A134}  \n",
       "3  2022/10/18 21:51:23+00     12484  {7769980A-5F36-4B3C-91CF-D1A3A94CE52E}  \n",
       "4  2022/10/18 21:51:23+00     12485  {5D5BEE85-DF16-41A1-BB49-0D16D0EE1320}  \n",
       "\n",
       "[5 rows x 27 columns]"
      ]
     },
     "execution_count": 2,
     "metadata": {},
     "output_type": "execute_result"
    }
   ],
   "source": [
    "df = pd.read_csv('Marijuana_Arrests.csv')\n",
    "df.head()"
   ]
  },
  {
   "cell_type": "markdown",
   "id": "ed7a8fde",
   "metadata": {},
   "source": [
    "## DATA CLEANING\n",
    "\n",
    "### *Missing Data*"
   ]
  },
  {
   "cell_type": "markdown",
   "id": "a9ef5ddb",
   "metadata": {},
   "source": [
    "We do not require the technical details. We will remove the final 12 columns."
   ]
  },
  {
   "cell_type": "code",
   "execution_count": 3,
   "id": "f537b39c",
   "metadata": {},
   "outputs": [
    {
     "data": {
      "text/html": [
       "<div>\n",
       "<style scoped>\n",
       "    .dataframe tbody tr th:only-of-type {\n",
       "        vertical-align: middle;\n",
       "    }\n",
       "\n",
       "    .dataframe tbody tr th {\n",
       "        vertical-align: top;\n",
       "    }\n",
       "\n",
       "    .dataframe thead th {\n",
       "        text-align: right;\n",
       "    }\n",
       "</style>\n",
       "<table border=\"1\" class=\"dataframe\">\n",
       "  <thead>\n",
       "    <tr style=\"text-align: right;\">\n",
       "      <th></th>\n",
       "      <th>TYPE</th>\n",
       "      <th>ADULT_JUVENILE</th>\n",
       "      <th>YEAR</th>\n",
       "      <th>DATETIME</th>\n",
       "      <th>CCN</th>\n",
       "      <th>AGE</th>\n",
       "      <th>OFFENSE_DISTRICT</th>\n",
       "      <th>OFFENSE_PSA</th>\n",
       "      <th>DEFENDANT_PSA</th>\n",
       "      <th>DEFENDANT_DISTRICT</th>\n",
       "      <th>RACE</th>\n",
       "      <th>ETHNICITY</th>\n",
       "      <th>SEX</th>\n",
       "      <th>DESCRIPTION</th>\n",
       "      <th>ADDRESS</th>\n",
       "    </tr>\n",
       "  </thead>\n",
       "  <tbody>\n",
       "    <tr>\n",
       "      <th>0</th>\n",
       "      <td>Possession</td>\n",
       "      <td>Adult</td>\n",
       "      <td>2012</td>\n",
       "      <td>2012/01/01 06:00:00+00</td>\n",
       "      <td>b';\\xc8k~\\xa4iJ'</td>\n",
       "      <td>20.0</td>\n",
       "      <td>5D</td>\n",
       "      <td>501.0</td>\n",
       "      <td>Out of State</td>\n",
       "      <td>Out of State</td>\n",
       "      <td>B</td>\n",
       "      <td>N</td>\n",
       "      <td>F</td>\n",
       "      <td>Ucsa Possession Marijuana</td>\n",
       "      <td>FLORIDA AVE NE</td>\n",
       "    </tr>\n",
       "    <tr>\n",
       "      <th>1</th>\n",
       "      <td>Possession</td>\n",
       "      <td>Adult</td>\n",
       "      <td>2012</td>\n",
       "      <td>2012/01/01 06:00:00+00</td>\n",
       "      <td>b';\\xc8k~\\xa4iJ'</td>\n",
       "      <td>23.0</td>\n",
       "      <td>5D</td>\n",
       "      <td>501.0</td>\n",
       "      <td>Out of State</td>\n",
       "      <td>Out of State</td>\n",
       "      <td>B</td>\n",
       "      <td>N</td>\n",
       "      <td>M</td>\n",
       "      <td>Ucsa Possession Marijuana</td>\n",
       "      <td>FLORIDA AVE NE</td>\n",
       "    </tr>\n",
       "    <tr>\n",
       "      <th>2</th>\n",
       "      <td>Possession</td>\n",
       "      <td>Adult</td>\n",
       "      <td>2012</td>\n",
       "      <td>2012/01/01 06:00:00+00</td>\n",
       "      <td>b't6\\xa0\\xac\\xec`\\xa4'</td>\n",
       "      <td>46.0</td>\n",
       "      <td>7D</td>\n",
       "      <td>707.0</td>\n",
       "      <td>705</td>\n",
       "      <td>7D</td>\n",
       "      <td>B</td>\n",
       "      <td>N</td>\n",
       "      <td>M</td>\n",
       "      <td>Ucsa Possession Marijuana</td>\n",
       "      <td>3300 BLOCK OF BROTHERS PL SE</td>\n",
       "    </tr>\n",
       "    <tr>\n",
       "      <th>3</th>\n",
       "      <td>Possession</td>\n",
       "      <td>Adult</td>\n",
       "      <td>2012</td>\n",
       "      <td>2012/01/01 09:35:00+00</td>\n",
       "      <td>b'\\xbe\\x1d\\xa7\\xf5\\xffWx'</td>\n",
       "      <td>30.0</td>\n",
       "      <td>6D</td>\n",
       "      <td>605.0</td>\n",
       "      <td>605</td>\n",
       "      <td>6D</td>\n",
       "      <td>B</td>\n",
       "      <td>U</td>\n",
       "      <td>M</td>\n",
       "      <td>Ucsa Possession Marijuana</td>\n",
       "      <td>700 BLOCK OF 32ND ST SE</td>\n",
       "    </tr>\n",
       "    <tr>\n",
       "      <th>4</th>\n",
       "      <td>Possession with intent to distribute</td>\n",
       "      <td>Adult</td>\n",
       "      <td>2012</td>\n",
       "      <td>2012/01/02 19:40:00+00</td>\n",
       "      <td>b'\\xbb\\xc0\\x8e\\x94\\x81\\xac\\xcd'</td>\n",
       "      <td>29.0</td>\n",
       "      <td>6D</td>\n",
       "      <td>604.0</td>\n",
       "      <td>NaN</td>\n",
       "      <td>NaN</td>\n",
       "      <td>U</td>\n",
       "      <td>U</td>\n",
       "      <td>M</td>\n",
       "      <td>Ucsa Pwid Marijuana</td>\n",
       "      <td>5300 BLOCK OF B ST SE</td>\n",
       "    </tr>\n",
       "  </tbody>\n",
       "</table>\n",
       "</div>"
      ],
      "text/plain": [
       "                                   TYPE ADULT_JUVENILE  YEAR  \\\n",
       "0                            Possession          Adult  2012   \n",
       "1                            Possession          Adult  2012   \n",
       "2                            Possession          Adult  2012   \n",
       "3                            Possession          Adult  2012   \n",
       "4  Possession with intent to distribute          Adult  2012   \n",
       "\n",
       "                 DATETIME                              CCN   AGE  \\\n",
       "0  2012/01/01 06:00:00+00                 b';\\xc8k~\\xa4iJ'  20.0   \n",
       "1  2012/01/01 06:00:00+00                 b';\\xc8k~\\xa4iJ'  23.0   \n",
       "2  2012/01/01 06:00:00+00           b't6\\xa0\\xac\\xec`\\xa4'  46.0   \n",
       "3  2012/01/01 09:35:00+00        b'\\xbe\\x1d\\xa7\\xf5\\xffWx'  30.0   \n",
       "4  2012/01/02 19:40:00+00  b'\\xbb\\xc0\\x8e\\x94\\x81\\xac\\xcd'  29.0   \n",
       "\n",
       "  OFFENSE_DISTRICT  OFFENSE_PSA DEFENDANT_PSA DEFENDANT_DISTRICT RACE  \\\n",
       "0               5D        501.0  Out of State       Out of State   B    \n",
       "1               5D        501.0  Out of State       Out of State   B    \n",
       "2               7D        707.0           705                 7D   B    \n",
       "3               6D        605.0           605                 6D   B    \n",
       "4               6D        604.0           NaN                NaN    U   \n",
       "\n",
       "  ETHNICITY SEX                DESCRIPTION                       ADDRESS  \n",
       "0        N    F  Ucsa Possession Marijuana                FLORIDA AVE NE  \n",
       "1        N    M  Ucsa Possession Marijuana                FLORIDA AVE NE  \n",
       "2        N    M  Ucsa Possession Marijuana  3300 BLOCK OF BROTHERS PL SE  \n",
       "3        U    M  Ucsa Possession Marijuana       700 BLOCK OF 32ND ST SE  \n",
       "4        U    M        Ucsa Pwid Marijuana         5300 BLOCK OF B ST SE  "
      ]
     },
     "execution_count": 3,
     "metadata": {},
     "output_type": "execute_result"
    }
   ],
   "source": [
    "df = df.drop(['OBJECTID','CREATOR','CREATED','EDITOR','EDITED','GLOBALID','GIS_ID','CATEGORY','OFFENSE_BLOCKX','OFFENSE_BLOCKY','ARREST_BLOCKX','ARREST_BLOCKY'],axis=1)\n",
    "df.head()"
   ]
  },
  {
   "cell_type": "markdown",
   "id": "a01eb532",
   "metadata": {},
   "source": [
    "Evaluating the amount of missing data (NaN) in our dataset. At least one missing value was found in 1,343 rows."
   ]
  },
  {
   "cell_type": "code",
   "execution_count": 4,
   "id": "93496be1",
   "metadata": {},
   "outputs": [
    {
     "data": {
      "text/html": [
       "<div>\n",
       "<style scoped>\n",
       "    .dataframe tbody tr th:only-of-type {\n",
       "        vertical-align: middle;\n",
       "    }\n",
       "\n",
       "    .dataframe tbody tr th {\n",
       "        vertical-align: top;\n",
       "    }\n",
       "\n",
       "    .dataframe thead th {\n",
       "        text-align: right;\n",
       "    }\n",
       "</style>\n",
       "<table border=\"1\" class=\"dataframe\">\n",
       "  <thead>\n",
       "    <tr style=\"text-align: right;\">\n",
       "      <th></th>\n",
       "      <th>TYPE</th>\n",
       "      <th>ADULT_JUVENILE</th>\n",
       "      <th>YEAR</th>\n",
       "      <th>DATETIME</th>\n",
       "      <th>CCN</th>\n",
       "      <th>AGE</th>\n",
       "      <th>OFFENSE_DISTRICT</th>\n",
       "      <th>OFFENSE_PSA</th>\n",
       "      <th>DEFENDANT_PSA</th>\n",
       "      <th>DEFENDANT_DISTRICT</th>\n",
       "      <th>RACE</th>\n",
       "      <th>ETHNICITY</th>\n",
       "      <th>SEX</th>\n",
       "      <th>DESCRIPTION</th>\n",
       "      <th>ADDRESS</th>\n",
       "    </tr>\n",
       "  </thead>\n",
       "  <tbody>\n",
       "    <tr>\n",
       "      <th>4</th>\n",
       "      <td>Possession with intent to distribute</td>\n",
       "      <td>Adult</td>\n",
       "      <td>2012</td>\n",
       "      <td>2012/01/02 19:40:00+00</td>\n",
       "      <td>b'\\xbb\\xc0\\x8e\\x94\\x81\\xac\\xcd'</td>\n",
       "      <td>29.0</td>\n",
       "      <td>6D</td>\n",
       "      <td>604.0</td>\n",
       "      <td>NaN</td>\n",
       "      <td>NaN</td>\n",
       "      <td>U</td>\n",
       "      <td>U</td>\n",
       "      <td>M</td>\n",
       "      <td>Ucsa Pwid Marijuana</td>\n",
       "      <td>5300 BLOCK OF B ST SE</td>\n",
       "    </tr>\n",
       "    <tr>\n",
       "      <th>11</th>\n",
       "      <td>Possession</td>\n",
       "      <td>Adult</td>\n",
       "      <td>2012</td>\n",
       "      <td>2012/01/04 04:15:00+00</td>\n",
       "      <td>b'\\x8f.\\xc0.\\x99\\\\\\xca'</td>\n",
       "      <td>43.0</td>\n",
       "      <td>4D</td>\n",
       "      <td>403.0</td>\n",
       "      <td>NaN</td>\n",
       "      <td>NaN</td>\n",
       "      <td>U</td>\n",
       "      <td>U</td>\n",
       "      <td>M</td>\n",
       "      <td>Ucsa Possession Marijuana</td>\n",
       "      <td>5400 BLOCK OF GEORGIA AVE NW</td>\n",
       "    </tr>\n",
       "    <tr>\n",
       "      <th>38</th>\n",
       "      <td>Possession</td>\n",
       "      <td>Adult</td>\n",
       "      <td>2012</td>\n",
       "      <td>2012/01/06 01:36:00+00</td>\n",
       "      <td>b'J\\x877\\x89!\\xa6\\xf9'</td>\n",
       "      <td>29.0</td>\n",
       "      <td>3D</td>\n",
       "      <td>304.0</td>\n",
       "      <td>NaN</td>\n",
       "      <td>NaN</td>\n",
       "      <td>W</td>\n",
       "      <td>N</td>\n",
       "      <td>M</td>\n",
       "      <td>Ucsa Possession Marijuana</td>\n",
       "      <td>GEORGIA AVE NW</td>\n",
       "    </tr>\n",
       "    <tr>\n",
       "      <th>42</th>\n",
       "      <td>Possession with intent to distribute</td>\n",
       "      <td>Juvenile</td>\n",
       "      <td>2012</td>\n",
       "      <td>2012/01/05 05:00:00+00</td>\n",
       "      <td>NaN</td>\n",
       "      <td>NaN</td>\n",
       "      <td>7D</td>\n",
       "      <td>701.0</td>\n",
       "      <td>608</td>\n",
       "      <td>6D</td>\n",
       "      <td>NaN</td>\n",
       "      <td>NaN</td>\n",
       "      <td>NaN</td>\n",
       "      <td>Ucsa Pwid Marijuana</td>\n",
       "      <td>NaN</td>\n",
       "    </tr>\n",
       "    <tr>\n",
       "      <th>56</th>\n",
       "      <td>Possession</td>\n",
       "      <td>Juvenile</td>\n",
       "      <td>2012</td>\n",
       "      <td>2012/01/06 05:00:00+00</td>\n",
       "      <td>NaN</td>\n",
       "      <td>NaN</td>\n",
       "      <td>3D</td>\n",
       "      <td>307.0</td>\n",
       "      <td>307</td>\n",
       "      <td>3D</td>\n",
       "      <td>NaN</td>\n",
       "      <td>NaN</td>\n",
       "      <td>NaN</td>\n",
       "      <td>Ucsa Possession Marijuana</td>\n",
       "      <td>NaN</td>\n",
       "    </tr>\n",
       "    <tr>\n",
       "      <th>...</th>\n",
       "      <td>...</td>\n",
       "      <td>...</td>\n",
       "      <td>...</td>\n",
       "      <td>...</td>\n",
       "      <td>...</td>\n",
       "      <td>...</td>\n",
       "      <td>...</td>\n",
       "      <td>...</td>\n",
       "      <td>...</td>\n",
       "      <td>...</td>\n",
       "      <td>...</td>\n",
       "      <td>...</td>\n",
       "      <td>...</td>\n",
       "      <td>...</td>\n",
       "      <td>...</td>\n",
       "    </tr>\n",
       "    <tr>\n",
       "      <th>13058</th>\n",
       "      <td>Possession with intent to distribute</td>\n",
       "      <td>Juvenile</td>\n",
       "      <td>2021</td>\n",
       "      <td>2021/12/03 05:00:00+00</td>\n",
       "      <td>NaN</td>\n",
       "      <td>NaN</td>\n",
       "      <td>4D</td>\n",
       "      <td>403.0</td>\n",
       "      <td>Unknown</td>\n",
       "      <td>Unknown</td>\n",
       "      <td>NaN</td>\n",
       "      <td>NaN</td>\n",
       "      <td>NaN</td>\n",
       "      <td>Poss W/i To Dist Marijuana-misd</td>\n",
       "      <td>NaN</td>\n",
       "    </tr>\n",
       "    <tr>\n",
       "      <th>13059</th>\n",
       "      <td>Possession with intent to distribute</td>\n",
       "      <td>Juvenile</td>\n",
       "      <td>2021</td>\n",
       "      <td>2021/12/04 05:00:00+00</td>\n",
       "      <td>NaN</td>\n",
       "      <td>NaN</td>\n",
       "      <td>7D</td>\n",
       "      <td>702.0</td>\n",
       "      <td>702</td>\n",
       "      <td>7D</td>\n",
       "      <td>NaN</td>\n",
       "      <td>NaN</td>\n",
       "      <td>NaN</td>\n",
       "      <td>Poss W/i To Dist Marijuana-misd</td>\n",
       "      <td>NaN</td>\n",
       "    </tr>\n",
       "    <tr>\n",
       "      <th>13060</th>\n",
       "      <td>Public consumption</td>\n",
       "      <td>Juvenile</td>\n",
       "      <td>2021</td>\n",
       "      <td>2021/12/11 05:00:00+00</td>\n",
       "      <td>NaN</td>\n",
       "      <td>NaN</td>\n",
       "      <td>4D</td>\n",
       "      <td>403.0</td>\n",
       "      <td>503</td>\n",
       "      <td>5D</td>\n",
       "      <td>NaN</td>\n",
       "      <td>NaN</td>\n",
       "      <td>NaN</td>\n",
       "      <td>Consumption of marijuana in public space prohi...</td>\n",
       "      <td>NaN</td>\n",
       "    </tr>\n",
       "    <tr>\n",
       "      <th>13061</th>\n",
       "      <td>Possession</td>\n",
       "      <td>Juvenile</td>\n",
       "      <td>2021</td>\n",
       "      <td>2021/12/18 05:00:00+00</td>\n",
       "      <td>NaN</td>\n",
       "      <td>NaN</td>\n",
       "      <td>6D</td>\n",
       "      <td>608.0</td>\n",
       "      <td>405</td>\n",
       "      <td>4D</td>\n",
       "      <td>NaN</td>\n",
       "      <td>NaN</td>\n",
       "      <td>NaN</td>\n",
       "      <td>Poss Of A Controlled Substance -misd</td>\n",
       "      <td>NaN</td>\n",
       "    </tr>\n",
       "    <tr>\n",
       "      <th>13062</th>\n",
       "      <td>Possession with intent to distribute</td>\n",
       "      <td>Juvenile</td>\n",
       "      <td>2021</td>\n",
       "      <td>2021/12/23 05:00:00+00</td>\n",
       "      <td>NaN</td>\n",
       "      <td>NaN</td>\n",
       "      <td>4D</td>\n",
       "      <td>403.0</td>\n",
       "      <td>405</td>\n",
       "      <td>4D</td>\n",
       "      <td>NaN</td>\n",
       "      <td>NaN</td>\n",
       "      <td>NaN</td>\n",
       "      <td>Poss W/i To Dist Marijuana-misd</td>\n",
       "      <td>NaN</td>\n",
       "    </tr>\n",
       "  </tbody>\n",
       "</table>\n",
       "<p>1343 rows × 15 columns</p>\n",
       "</div>"
      ],
      "text/plain": [
       "                                       TYPE ADULT_JUVENILE  YEAR  \\\n",
       "4      Possession with intent to distribute          Adult  2012   \n",
       "11                               Possession          Adult  2012   \n",
       "38                               Possession          Adult  2012   \n",
       "42     Possession with intent to distribute       Juvenile  2012   \n",
       "56                               Possession       Juvenile  2012   \n",
       "...                                     ...            ...   ...   \n",
       "13058  Possession with intent to distribute       Juvenile  2021   \n",
       "13059  Possession with intent to distribute       Juvenile  2021   \n",
       "13060                    Public consumption       Juvenile  2021   \n",
       "13061                            Possession       Juvenile  2021   \n",
       "13062  Possession with intent to distribute       Juvenile  2021   \n",
       "\n",
       "                     DATETIME                              CCN   AGE  \\\n",
       "4      2012/01/02 19:40:00+00  b'\\xbb\\xc0\\x8e\\x94\\x81\\xac\\xcd'  29.0   \n",
       "11     2012/01/04 04:15:00+00          b'\\x8f.\\xc0.\\x99\\\\\\xca'  43.0   \n",
       "38     2012/01/06 01:36:00+00           b'J\\x877\\x89!\\xa6\\xf9'  29.0   \n",
       "42     2012/01/05 05:00:00+00                              NaN   NaN   \n",
       "56     2012/01/06 05:00:00+00                              NaN   NaN   \n",
       "...                       ...                              ...   ...   \n",
       "13058  2021/12/03 05:00:00+00                              NaN   NaN   \n",
       "13059  2021/12/04 05:00:00+00                              NaN   NaN   \n",
       "13060  2021/12/11 05:00:00+00                              NaN   NaN   \n",
       "13061  2021/12/18 05:00:00+00                              NaN   NaN   \n",
       "13062  2021/12/23 05:00:00+00                              NaN   NaN   \n",
       "\n",
       "      OFFENSE_DISTRICT  OFFENSE_PSA DEFENDANT_PSA DEFENDANT_DISTRICT RACE  \\\n",
       "4                   6D        604.0           NaN                NaN    U   \n",
       "11                  4D        403.0           NaN                NaN    U   \n",
       "38                  3D        304.0           NaN                NaN   W    \n",
       "42                  7D        701.0           608                 6D  NaN   \n",
       "56                  3D        307.0           307                 3D  NaN   \n",
       "...                ...          ...           ...                ...  ...   \n",
       "13058               4D        403.0       Unknown            Unknown  NaN   \n",
       "13059               7D        702.0           702                 7D  NaN   \n",
       "13060               4D        403.0           503                 5D  NaN   \n",
       "13061               6D        608.0           405                 4D  NaN   \n",
       "13062               4D        403.0           405                 4D  NaN   \n",
       "\n",
       "      ETHNICITY  SEX                                        DESCRIPTION  \\\n",
       "4            U     M                                Ucsa Pwid Marijuana   \n",
       "11           U     M                          Ucsa Possession Marijuana   \n",
       "38           N     M                          Ucsa Possession Marijuana   \n",
       "42          NaN  NaN                                Ucsa Pwid Marijuana   \n",
       "56          NaN  NaN                          Ucsa Possession Marijuana   \n",
       "...         ...  ...                                                ...   \n",
       "13058       NaN  NaN                    Poss W/i To Dist Marijuana-misd   \n",
       "13059       NaN  NaN                    Poss W/i To Dist Marijuana-misd   \n",
       "13060       NaN  NaN  Consumption of marijuana in public space prohi...   \n",
       "13061       NaN  NaN               Poss Of A Controlled Substance -misd   \n",
       "13062       NaN  NaN                    Poss W/i To Dist Marijuana-misd   \n",
       "\n",
       "                            ADDRESS  \n",
       "4             5300 BLOCK OF B ST SE  \n",
       "11     5400 BLOCK OF GEORGIA AVE NW  \n",
       "38                   GEORGIA AVE NW  \n",
       "42                              NaN  \n",
       "56                              NaN  \n",
       "...                             ...  \n",
       "13058                           NaN  \n",
       "13059                           NaN  \n",
       "13060                           NaN  \n",
       "13061                           NaN  \n",
       "13062                           NaN  \n",
       "\n",
       "[1343 rows x 15 columns]"
      ]
     },
     "execution_count": 4,
     "metadata": {},
     "output_type": "execute_result"
    }
   ],
   "source": [
    "df[df.isna().any(axis=1)]"
   ]
  },
  {
   "cell_type": "markdown",
   "id": "5a7b23c4",
   "metadata": {},
   "source": [
    "We have over 10,000 complete data samples. We've chosen to remove all NaN values."
   ]
  },
  {
   "cell_type": "code",
   "execution_count": 5,
   "id": "db9edfbf",
   "metadata": {},
   "outputs": [
    {
     "data": {
      "text/html": [
       "<div>\n",
       "<style scoped>\n",
       "    .dataframe tbody tr th:only-of-type {\n",
       "        vertical-align: middle;\n",
       "    }\n",
       "\n",
       "    .dataframe tbody tr th {\n",
       "        vertical-align: top;\n",
       "    }\n",
       "\n",
       "    .dataframe thead th {\n",
       "        text-align: right;\n",
       "    }\n",
       "</style>\n",
       "<table border=\"1\" class=\"dataframe\">\n",
       "  <thead>\n",
       "    <tr style=\"text-align: right;\">\n",
       "      <th></th>\n",
       "      <th>TYPE</th>\n",
       "      <th>ADULT_JUVENILE</th>\n",
       "      <th>YEAR</th>\n",
       "      <th>DATETIME</th>\n",
       "      <th>CCN</th>\n",
       "      <th>AGE</th>\n",
       "      <th>OFFENSE_DISTRICT</th>\n",
       "      <th>OFFENSE_PSA</th>\n",
       "      <th>DEFENDANT_PSA</th>\n",
       "      <th>DEFENDANT_DISTRICT</th>\n",
       "      <th>RACE</th>\n",
       "      <th>ETHNICITY</th>\n",
       "      <th>SEX</th>\n",
       "      <th>DESCRIPTION</th>\n",
       "      <th>ADDRESS</th>\n",
       "    </tr>\n",
       "  </thead>\n",
       "  <tbody>\n",
       "    <tr>\n",
       "      <th>0</th>\n",
       "      <td>Possession</td>\n",
       "      <td>Adult</td>\n",
       "      <td>2012</td>\n",
       "      <td>2012/01/01 06:00:00+00</td>\n",
       "      <td>b';\\xc8k~\\xa4iJ'</td>\n",
       "      <td>20.0</td>\n",
       "      <td>5D</td>\n",
       "      <td>501.0</td>\n",
       "      <td>Out of State</td>\n",
       "      <td>Out of State</td>\n",
       "      <td>B</td>\n",
       "      <td>N</td>\n",
       "      <td>F</td>\n",
       "      <td>Ucsa Possession Marijuana</td>\n",
       "      <td>FLORIDA AVE NE</td>\n",
       "    </tr>\n",
       "    <tr>\n",
       "      <th>1</th>\n",
       "      <td>Possession</td>\n",
       "      <td>Adult</td>\n",
       "      <td>2012</td>\n",
       "      <td>2012/01/01 06:00:00+00</td>\n",
       "      <td>b';\\xc8k~\\xa4iJ'</td>\n",
       "      <td>23.0</td>\n",
       "      <td>5D</td>\n",
       "      <td>501.0</td>\n",
       "      <td>Out of State</td>\n",
       "      <td>Out of State</td>\n",
       "      <td>B</td>\n",
       "      <td>N</td>\n",
       "      <td>M</td>\n",
       "      <td>Ucsa Possession Marijuana</td>\n",
       "      <td>FLORIDA AVE NE</td>\n",
       "    </tr>\n",
       "    <tr>\n",
       "      <th>2</th>\n",
       "      <td>Possession</td>\n",
       "      <td>Adult</td>\n",
       "      <td>2012</td>\n",
       "      <td>2012/01/01 06:00:00+00</td>\n",
       "      <td>b't6\\xa0\\xac\\xec`\\xa4'</td>\n",
       "      <td>46.0</td>\n",
       "      <td>7D</td>\n",
       "      <td>707.0</td>\n",
       "      <td>705</td>\n",
       "      <td>7D</td>\n",
       "      <td>B</td>\n",
       "      <td>N</td>\n",
       "      <td>M</td>\n",
       "      <td>Ucsa Possession Marijuana</td>\n",
       "      <td>3300 BLOCK OF BROTHERS PL SE</td>\n",
       "    </tr>\n",
       "    <tr>\n",
       "      <th>3</th>\n",
       "      <td>Possession</td>\n",
       "      <td>Adult</td>\n",
       "      <td>2012</td>\n",
       "      <td>2012/01/01 09:35:00+00</td>\n",
       "      <td>b'\\xbe\\x1d\\xa7\\xf5\\xffWx'</td>\n",
       "      <td>30.0</td>\n",
       "      <td>6D</td>\n",
       "      <td>605.0</td>\n",
       "      <td>605</td>\n",
       "      <td>6D</td>\n",
       "      <td>B</td>\n",
       "      <td>U</td>\n",
       "      <td>M</td>\n",
       "      <td>Ucsa Possession Marijuana</td>\n",
       "      <td>700 BLOCK OF 32ND ST SE</td>\n",
       "    </tr>\n",
       "    <tr>\n",
       "      <th>4</th>\n",
       "      <td>Possession</td>\n",
       "      <td>Adult</td>\n",
       "      <td>2012</td>\n",
       "      <td>2012/01/02 21:47:00+00</td>\n",
       "      <td>b'\\x94\\xd2y\\xaa\\xf5\\x1a\\xcc'</td>\n",
       "      <td>33.0</td>\n",
       "      <td>6D</td>\n",
       "      <td>604.0</td>\n",
       "      <td>301</td>\n",
       "      <td>3D</td>\n",
       "      <td>B</td>\n",
       "      <td>N</td>\n",
       "      <td>M</td>\n",
       "      <td>Ucsa Possession Marijuana</td>\n",
       "      <td>UNIT BLOCK OF 55TH ST SE</td>\n",
       "    </tr>\n",
       "    <tr>\n",
       "      <th>...</th>\n",
       "      <td>...</td>\n",
       "      <td>...</td>\n",
       "      <td>...</td>\n",
       "      <td>...</td>\n",
       "      <td>...</td>\n",
       "      <td>...</td>\n",
       "      <td>...</td>\n",
       "      <td>...</td>\n",
       "      <td>...</td>\n",
       "      <td>...</td>\n",
       "      <td>...</td>\n",
       "      <td>...</td>\n",
       "      <td>...</td>\n",
       "      <td>...</td>\n",
       "      <td>...</td>\n",
       "    </tr>\n",
       "    <tr>\n",
       "      <th>11715</th>\n",
       "      <td>Possession with intent to distribute</td>\n",
       "      <td>Adult</td>\n",
       "      <td>2021</td>\n",
       "      <td>2021/12/06 21:00:00+00</td>\n",
       "      <td>105e0539b622e4c6</td>\n",
       "      <td>18.0</td>\n",
       "      <td>7D</td>\n",
       "      <td>706.0</td>\n",
       "      <td>708</td>\n",
       "      <td>7D</td>\n",
       "      <td>B</td>\n",
       "      <td>N</td>\n",
       "      <td>M</td>\n",
       "      <td>Poss W/i To Dist Marijuana-misd</td>\n",
       "      <td>3800 BLOCK OF 9TH STREET SE</td>\n",
       "    </tr>\n",
       "    <tr>\n",
       "      <th>11716</th>\n",
       "      <td>Possession with intent to distribute</td>\n",
       "      <td>Adult</td>\n",
       "      <td>2021</td>\n",
       "      <td>2021/12/23 21:00:00+00</td>\n",
       "      <td>14daeb983691273a</td>\n",
       "      <td>28.0</td>\n",
       "      <td>7D</td>\n",
       "      <td>708.0</td>\n",
       "      <td>708</td>\n",
       "      <td>7D</td>\n",
       "      <td>B</td>\n",
       "      <td>U</td>\n",
       "      <td>M</td>\n",
       "      <td>Poss W/i To Dist Marijuana-misd</td>\n",
       "      <td>4600 BLOCK OF MARTIN LUTHER KING JR AVENUE SW</td>\n",
       "    </tr>\n",
       "    <tr>\n",
       "      <th>11717</th>\n",
       "      <td>Possession with intent to distribute</td>\n",
       "      <td>Adult</td>\n",
       "      <td>2021</td>\n",
       "      <td>2021/12/23 21:00:00+00</td>\n",
       "      <td>14daeb983691273a</td>\n",
       "      <td>35.0</td>\n",
       "      <td>7D</td>\n",
       "      <td>708.0</td>\n",
       "      <td>706</td>\n",
       "      <td>7D</td>\n",
       "      <td>B</td>\n",
       "      <td>U</td>\n",
       "      <td>M</td>\n",
       "      <td>Poss W/i To Dist Marijuana-misd</td>\n",
       "      <td>4600 BLOCK OF MARTIN LUTHER KING JR AVENUE SW</td>\n",
       "    </tr>\n",
       "    <tr>\n",
       "      <th>11718</th>\n",
       "      <td>Possession with intent to distribute</td>\n",
       "      <td>Adult</td>\n",
       "      <td>2021</td>\n",
       "      <td>2021/04/26 11:00:00+00</td>\n",
       "      <td>f09f73792bd6d544</td>\n",
       "      <td>31.0</td>\n",
       "      <td>7D</td>\n",
       "      <td>701.0</td>\n",
       "      <td>701</td>\n",
       "      <td>7D</td>\n",
       "      <td>B</td>\n",
       "      <td>N</td>\n",
       "      <td>M</td>\n",
       "      <td>Poss W/i To Dist Marijuana-fel</td>\n",
       "      <td>2300 BLOCK OF GREEN STREET SE</td>\n",
       "    </tr>\n",
       "    <tr>\n",
       "      <th>11719</th>\n",
       "      <td>Possession with intent to distribute</td>\n",
       "      <td>Adult</td>\n",
       "      <td>2021</td>\n",
       "      <td>2021/04/26 11:00:00+00</td>\n",
       "      <td>f09f73792bd6d544</td>\n",
       "      <td>23.0</td>\n",
       "      <td>7D</td>\n",
       "      <td>701.0</td>\n",
       "      <td>Out of State</td>\n",
       "      <td>Out of State</td>\n",
       "      <td>B</td>\n",
       "      <td>N</td>\n",
       "      <td>M</td>\n",
       "      <td>Poss W/i To Dist Marijuana-fel</td>\n",
       "      <td>2300 BLOCK OF GREEN STREET SE</td>\n",
       "    </tr>\n",
       "  </tbody>\n",
       "</table>\n",
       "<p>11720 rows × 15 columns</p>\n",
       "</div>"
      ],
      "text/plain": [
       "                                       TYPE ADULT_JUVENILE  YEAR  \\\n",
       "0                                Possession          Adult  2012   \n",
       "1                                Possession          Adult  2012   \n",
       "2                                Possession          Adult  2012   \n",
       "3                                Possession          Adult  2012   \n",
       "4                                Possession          Adult  2012   \n",
       "...                                     ...            ...   ...   \n",
       "11715  Possession with intent to distribute          Adult  2021   \n",
       "11716  Possession with intent to distribute          Adult  2021   \n",
       "11717  Possession with intent to distribute          Adult  2021   \n",
       "11718  Possession with intent to distribute          Adult  2021   \n",
       "11719  Possession with intent to distribute          Adult  2021   \n",
       "\n",
       "                     DATETIME                           CCN   AGE  \\\n",
       "0      2012/01/01 06:00:00+00              b';\\xc8k~\\xa4iJ'  20.0   \n",
       "1      2012/01/01 06:00:00+00              b';\\xc8k~\\xa4iJ'  23.0   \n",
       "2      2012/01/01 06:00:00+00        b't6\\xa0\\xac\\xec`\\xa4'  46.0   \n",
       "3      2012/01/01 09:35:00+00     b'\\xbe\\x1d\\xa7\\xf5\\xffWx'  30.0   \n",
       "4      2012/01/02 21:47:00+00  b'\\x94\\xd2y\\xaa\\xf5\\x1a\\xcc'  33.0   \n",
       "...                       ...                           ...   ...   \n",
       "11715  2021/12/06 21:00:00+00              105e0539b622e4c6  18.0   \n",
       "11716  2021/12/23 21:00:00+00              14daeb983691273a  28.0   \n",
       "11717  2021/12/23 21:00:00+00              14daeb983691273a  35.0   \n",
       "11718  2021/04/26 11:00:00+00              f09f73792bd6d544  31.0   \n",
       "11719  2021/04/26 11:00:00+00              f09f73792bd6d544  23.0   \n",
       "\n",
       "      OFFENSE_DISTRICT  OFFENSE_PSA DEFENDANT_PSA DEFENDANT_DISTRICT RACE  \\\n",
       "0                   5D        501.0  Out of State       Out of State   B    \n",
       "1                   5D        501.0  Out of State       Out of State   B    \n",
       "2                   7D        707.0           705                 7D   B    \n",
       "3                   6D        605.0           605                 6D   B    \n",
       "4                   6D        604.0           301                 3D   B    \n",
       "...                ...          ...           ...                ...  ...   \n",
       "11715               7D        706.0           708                 7D    B   \n",
       "11716               7D        708.0           708                 7D    B   \n",
       "11717               7D        708.0           706                 7D    B   \n",
       "11718               7D        701.0           701                 7D    B   \n",
       "11719               7D        701.0  Out of State       Out of State    B   \n",
       "\n",
       "      ETHNICITY SEX                      DESCRIPTION  \\\n",
       "0            N    F        Ucsa Possession Marijuana   \n",
       "1            N    M        Ucsa Possession Marijuana   \n",
       "2            N    M        Ucsa Possession Marijuana   \n",
       "3            U    M        Ucsa Possession Marijuana   \n",
       "4            N    M        Ucsa Possession Marijuana   \n",
       "...         ...  ..                              ...   \n",
       "11715         N   M  Poss W/i To Dist Marijuana-misd   \n",
       "11716         U   M  Poss W/i To Dist Marijuana-misd   \n",
       "11717         U   M  Poss W/i To Dist Marijuana-misd   \n",
       "11718         N   M   Poss W/i To Dist Marijuana-fel   \n",
       "11719         N   M   Poss W/i To Dist Marijuana-fel   \n",
       "\n",
       "                                             ADDRESS  \n",
       "0                                     FLORIDA AVE NE  \n",
       "1                                     FLORIDA AVE NE  \n",
       "2                       3300 BLOCK OF BROTHERS PL SE  \n",
       "3                            700 BLOCK OF 32ND ST SE  \n",
       "4                           UNIT BLOCK OF 55TH ST SE  \n",
       "...                                              ...  \n",
       "11715                    3800 BLOCK OF 9TH STREET SE  \n",
       "11716  4600 BLOCK OF MARTIN LUTHER KING JR AVENUE SW  \n",
       "11717  4600 BLOCK OF MARTIN LUTHER KING JR AVENUE SW  \n",
       "11718                  2300 BLOCK OF GREEN STREET SE  \n",
       "11719                  2300 BLOCK OF GREEN STREET SE  \n",
       "\n",
       "[11720 rows x 15 columns]"
      ]
     },
     "execution_count": 5,
     "metadata": {},
     "output_type": "execute_result"
    }
   ],
   "source": [
    "df = df.dropna(thresh=15).reset_index(drop=True)\n",
    "df"
   ]
  },
  {
   "cell_type": "markdown",
   "id": "89d14f4a",
   "metadata": {},
   "source": [
    "Let's check another time. So, we do not have any missing values in our dataset:"
   ]
  },
  {
   "cell_type": "code",
   "execution_count": 6,
   "id": "4b2b58bd",
   "metadata": {},
   "outputs": [
    {
     "data": {
      "text/plain": [
       "TYPE                  0\n",
       "ADULT_JUVENILE        0\n",
       "YEAR                  0\n",
       "DATETIME              0\n",
       "CCN                   0\n",
       "AGE                   0\n",
       "OFFENSE_DISTRICT      0\n",
       "OFFENSE_PSA           0\n",
       "DEFENDANT_PSA         0\n",
       "DEFENDANT_DISTRICT    0\n",
       "RACE                  0\n",
       "ETHNICITY             0\n",
       "SEX                   0\n",
       "DESCRIPTION           0\n",
       "ADDRESS               0\n",
       "dtype: int64"
      ]
     },
     "execution_count": 6,
     "metadata": {},
     "output_type": "execute_result"
    }
   ],
   "source": [
    "df.isna().sum()"
   ]
  },
  {
   "cell_type": "markdown",
   "id": "50dd87c9",
   "metadata": {},
   "source": [
    "### *Inconsist text or types*"
   ]
  },
  {
   "cell_type": "markdown",
   "id": "34be8a4f",
   "metadata": {},
   "source": [
    "Let's examine the categorical data:"
   ]
  },
  {
   "cell_type": "code",
   "execution_count": 7,
   "id": "6072563a",
   "metadata": {},
   "outputs": [
    {
     "name": "stdout",
     "output_type": "stream",
     "text": [
      "<class 'pandas.core.frame.DataFrame'>\n",
      "RangeIndex: 11720 entries, 0 to 11719\n",
      "Data columns (total 15 columns):\n",
      " #   Column              Non-Null Count  Dtype  \n",
      "---  ------              --------------  -----  \n",
      " 0   TYPE                11720 non-null  object \n",
      " 1   ADULT_JUVENILE      11720 non-null  object \n",
      " 2   YEAR                11720 non-null  int64  \n",
      " 3   DATETIME            11720 non-null  object \n",
      " 4   CCN                 11720 non-null  object \n",
      " 5   AGE                 11720 non-null  float64\n",
      " 6   OFFENSE_DISTRICT    11720 non-null  object \n",
      " 7   OFFENSE_PSA         11720 non-null  float64\n",
      " 8   DEFENDANT_PSA       11720 non-null  object \n",
      " 9   DEFENDANT_DISTRICT  11720 non-null  object \n",
      " 10  RACE                11720 non-null  object \n",
      " 11  ETHNICITY           11720 non-null  object \n",
      " 12  SEX                 11720 non-null  object \n",
      " 13  DESCRIPTION         11720 non-null  object \n",
      " 14  ADDRESS             11720 non-null  object \n",
      "dtypes: float64(2), int64(1), object(12)\n",
      "memory usage: 1.3+ MB\n"
     ]
    }
   ],
   "source": [
    "df.info()"
   ]
  },
  {
   "cell_type": "markdown",
   "id": "2bf89b3d",
   "metadata": {},
   "source": [
    "As we can observe, there are 2 values for \"Public Consumption\" that are identical but differ in case (uppercase/lowercase). Let's standardize them:"
   ]
  },
  {
   "cell_type": "code",
   "execution_count": 8,
   "id": "336648de",
   "metadata": {},
   "outputs": [
    {
     "data": {
      "text/plain": [
       "Possession                              5457\n",
       "Possession with intent to distribute    3619\n",
       "Distribution                            1595\n",
       "Public consumption                       826\n",
       "Public Consumption                       219\n",
       "Manufacture                                2\n",
       "Cultivation                                2\n",
       "Name: TYPE, dtype: int64"
      ]
     },
     "execution_count": 8,
     "metadata": {},
     "output_type": "execute_result"
    }
   ],
   "source": [
    "df['TYPE'].value_counts()"
   ]
  },
  {
   "cell_type": "code",
   "execution_count": 9,
   "id": "d771f8ea",
   "metadata": {},
   "outputs": [
    {
     "data": {
      "text/plain": [
       "Possession                              5457\n",
       "Possession with intent to distribute    3619\n",
       "Distribution                            1595\n",
       "Public consumption                      1045\n",
       "Manufacture                                2\n",
       "Cultivation                                2\n",
       "Name: TYPE, dtype: int64"
      ]
     },
     "execution_count": 9,
     "metadata": {},
     "output_type": "execute_result"
    }
   ],
   "source": [
    "df.TYPE = np.where(df.TYPE=='Public Consumption','Public consumption',df.TYPE)\n",
    "df['TYPE'].value_counts()"
   ]
  },
  {
   "cell_type": "markdown",
   "id": "ccad8f46",
   "metadata": {},
   "source": [
    "\"Manufacture\" and \"Cultivation\" represent types of offenses, which we will omit because there are only 4 specific cases."
   ]
  },
  {
   "cell_type": "code",
   "execution_count": 10,
   "id": "b9ed9ecc",
   "metadata": {},
   "outputs": [
    {
     "data": {
      "text/html": [
       "<div>\n",
       "<style scoped>\n",
       "    .dataframe tbody tr th:only-of-type {\n",
       "        vertical-align: middle;\n",
       "    }\n",
       "\n",
       "    .dataframe tbody tr th {\n",
       "        vertical-align: top;\n",
       "    }\n",
       "\n",
       "    .dataframe thead th {\n",
       "        text-align: right;\n",
       "    }\n",
       "</style>\n",
       "<table border=\"1\" class=\"dataframe\">\n",
       "  <thead>\n",
       "    <tr style=\"text-align: right;\">\n",
       "      <th></th>\n",
       "      <th>TYPE</th>\n",
       "      <th>ADULT_JUVENILE</th>\n",
       "      <th>YEAR</th>\n",
       "      <th>DATETIME</th>\n",
       "      <th>CCN</th>\n",
       "      <th>AGE</th>\n",
       "      <th>OFFENSE_DISTRICT</th>\n",
       "      <th>OFFENSE_PSA</th>\n",
       "      <th>DEFENDANT_PSA</th>\n",
       "      <th>DEFENDANT_DISTRICT</th>\n",
       "      <th>RACE</th>\n",
       "      <th>ETHNICITY</th>\n",
       "      <th>SEX</th>\n",
       "      <th>DESCRIPTION</th>\n",
       "      <th>ADDRESS</th>\n",
       "    </tr>\n",
       "  </thead>\n",
       "  <tbody>\n",
       "    <tr>\n",
       "      <th>10545</th>\n",
       "      <td>Manufacture</td>\n",
       "      <td>Adult</td>\n",
       "      <td>2019</td>\n",
       "      <td>2019/03/20 22:25:00+00</td>\n",
       "      <td>b9f333f9054a6714</td>\n",
       "      <td>41.0</td>\n",
       "      <td>2D</td>\n",
       "      <td>203.0</td>\n",
       "      <td>203</td>\n",
       "      <td>2D</td>\n",
       "      <td>W</td>\n",
       "      <td>N</td>\n",
       "      <td>M</td>\n",
       "      <td>Manufacture Or Possessing W/intent To Manufact...</td>\n",
       "      <td>3000 BLOCK OF VAN NESS STREET NW</td>\n",
       "    </tr>\n",
       "    <tr>\n",
       "      <th>10708</th>\n",
       "      <td>Cultivation</td>\n",
       "      <td>Adult</td>\n",
       "      <td>2019</td>\n",
       "      <td>2019/05/29 22:50:00+00</td>\n",
       "      <td>efb222f3f71c5244</td>\n",
       "      <td>18.0</td>\n",
       "      <td>6D</td>\n",
       "      <td>603.0</td>\n",
       "      <td>603</td>\n",
       "      <td>6D</td>\n",
       "      <td>B</td>\n",
       "      <td>N</td>\n",
       "      <td>M</td>\n",
       "      <td>Manufacture Or Possessing W/intent To Manufact...</td>\n",
       "      <td>UNIT BLOCK OF RIDGE ROAD SE</td>\n",
       "    </tr>\n",
       "    <tr>\n",
       "      <th>11163</th>\n",
       "      <td>Manufacture</td>\n",
       "      <td>Adult</td>\n",
       "      <td>2020</td>\n",
       "      <td>2020/12/10 20:00:00+00</td>\n",
       "      <td>1240d752306d63ba</td>\n",
       "      <td>29.0</td>\n",
       "      <td>2D</td>\n",
       "      <td>204.0</td>\n",
       "      <td>204</td>\n",
       "      <td>2D</td>\n",
       "      <td>W</td>\n",
       "      <td>N</td>\n",
       "      <td>M</td>\n",
       "      <td>Manufacture Or Possessing W/intent To Manufact...</td>\n",
       "      <td>2300 BLOCK OF 41ST STREET NW</td>\n",
       "    </tr>\n",
       "    <tr>\n",
       "      <th>11558</th>\n",
       "      <td>Cultivation</td>\n",
       "      <td>Adult</td>\n",
       "      <td>2021</td>\n",
       "      <td>2021/11/10 01:00:00+00</td>\n",
       "      <td>46ee260ede6e4ee8</td>\n",
       "      <td>52.0</td>\n",
       "      <td>4D</td>\n",
       "      <td>401.0</td>\n",
       "      <td>401</td>\n",
       "      <td>4D</td>\n",
       "      <td>W</td>\n",
       "      <td>N</td>\n",
       "      <td>M</td>\n",
       "      <td>Cultivation Of A Controlled Substance</td>\n",
       "      <td>6600 BLOCK OF PINEY BRANCH ROAD NW</td>\n",
       "    </tr>\n",
       "  </tbody>\n",
       "</table>\n",
       "</div>"
      ],
      "text/plain": [
       "              TYPE ADULT_JUVENILE  YEAR                DATETIME  \\\n",
       "10545  Manufacture          Adult  2019  2019/03/20 22:25:00+00   \n",
       "10708  Cultivation          Adult  2019  2019/05/29 22:50:00+00   \n",
       "11163  Manufacture          Adult  2020  2020/12/10 20:00:00+00   \n",
       "11558  Cultivation          Adult  2021  2021/11/10 01:00:00+00   \n",
       "\n",
       "                    CCN   AGE OFFENSE_DISTRICT  OFFENSE_PSA DEFENDANT_PSA  \\\n",
       "10545  b9f333f9054a6714  41.0               2D        203.0           203   \n",
       "10708  efb222f3f71c5244  18.0               6D        603.0           603   \n",
       "11163  1240d752306d63ba  29.0               2D        204.0           204   \n",
       "11558  46ee260ede6e4ee8  52.0               4D        401.0           401   \n",
       "\n",
       "      DEFENDANT_DISTRICT RACE ETHNICITY SEX  \\\n",
       "10545                 2D    W         N   M   \n",
       "10708                 6D    B         N   M   \n",
       "11163                 2D    W         N   M   \n",
       "11558                 4D    W         N   M   \n",
       "\n",
       "                                             DESCRIPTION  \\\n",
       "10545  Manufacture Or Possessing W/intent To Manufact...   \n",
       "10708  Manufacture Or Possessing W/intent To Manufact...   \n",
       "11163  Manufacture Or Possessing W/intent To Manufact...   \n",
       "11558              Cultivation Of A Controlled Substance   \n",
       "\n",
       "                                  ADDRESS  \n",
       "10545    3000 BLOCK OF VAN NESS STREET NW  \n",
       "10708         UNIT BLOCK OF RIDGE ROAD SE  \n",
       "11163        2300 BLOCK OF 41ST STREET NW  \n",
       "11558  6600 BLOCK OF PINEY BRANCH ROAD NW  "
      ]
     },
     "execution_count": 10,
     "metadata": {},
     "output_type": "execute_result"
    }
   ],
   "source": [
    "df[df['TYPE'].isin(['Manufacture','Cultivation'])]"
   ]
  },
  {
   "cell_type": "code",
   "execution_count": 11,
   "id": "bdebeb57",
   "metadata": {},
   "outputs": [
    {
     "data": {
      "text/html": [
       "<div>\n",
       "<style scoped>\n",
       "    .dataframe tbody tr th:only-of-type {\n",
       "        vertical-align: middle;\n",
       "    }\n",
       "\n",
       "    .dataframe tbody tr th {\n",
       "        vertical-align: top;\n",
       "    }\n",
       "\n",
       "    .dataframe thead th {\n",
       "        text-align: right;\n",
       "    }\n",
       "</style>\n",
       "<table border=\"1\" class=\"dataframe\">\n",
       "  <thead>\n",
       "    <tr style=\"text-align: right;\">\n",
       "      <th></th>\n",
       "      <th>TYPE</th>\n",
       "      <th>ADULT_JUVENILE</th>\n",
       "      <th>YEAR</th>\n",
       "      <th>DATETIME</th>\n",
       "      <th>CCN</th>\n",
       "      <th>AGE</th>\n",
       "      <th>OFFENSE_DISTRICT</th>\n",
       "      <th>OFFENSE_PSA</th>\n",
       "      <th>DEFENDANT_PSA</th>\n",
       "      <th>DEFENDANT_DISTRICT</th>\n",
       "      <th>RACE</th>\n",
       "      <th>ETHNICITY</th>\n",
       "      <th>SEX</th>\n",
       "      <th>DESCRIPTION</th>\n",
       "      <th>ADDRESS</th>\n",
       "    </tr>\n",
       "  </thead>\n",
       "  <tbody>\n",
       "  </tbody>\n",
       "</table>\n",
       "</div>"
      ],
      "text/plain": [
       "Empty DataFrame\n",
       "Columns: [TYPE, ADULT_JUVENILE, YEAR, DATETIME, CCN, AGE, OFFENSE_DISTRICT, OFFENSE_PSA, DEFENDANT_PSA, DEFENDANT_DISTRICT, RACE, ETHNICITY, SEX, DESCRIPTION, ADDRESS]\n",
       "Index: []"
      ]
     },
     "execution_count": 11,
     "metadata": {},
     "output_type": "execute_result"
    }
   ],
   "source": [
    "df.drop(index=[10545,10708,11163,11558],inplace=True)\n",
    "df.reset_index(drop=True)\n",
    "df[df['TYPE'].isin(['Manufacture','Cultivation'])]"
   ]
  },
  {
   "cell_type": "markdown",
   "id": "396e6748",
   "metadata": {},
   "source": [
    "As indicated in the data documentation, arrest records for defendants under the age of 18 have been coded and appear as NaN in the dataset. We removed them earlier, and now that we only have data for adults, we can also delete this column."
   ]
  },
  {
   "cell_type": "code",
   "execution_count": 12,
   "id": "45e2840b",
   "metadata": {},
   "outputs": [
    {
     "data": {
      "text/plain": [
       "Adult    11716\n",
       "Name: ADULT_JUVENILE, dtype: int64"
      ]
     },
     "execution_count": 12,
     "metadata": {},
     "output_type": "execute_result"
    }
   ],
   "source": [
    "df.ADULT_JUVENILE.value_counts()"
   ]
  },
  {
   "cell_type": "code",
   "execution_count": 13,
   "id": "bad00a28",
   "metadata": {},
   "outputs": [
    {
     "data": {
      "text/html": [
       "<div>\n",
       "<style scoped>\n",
       "    .dataframe tbody tr th:only-of-type {\n",
       "        vertical-align: middle;\n",
       "    }\n",
       "\n",
       "    .dataframe tbody tr th {\n",
       "        vertical-align: top;\n",
       "    }\n",
       "\n",
       "    .dataframe thead th {\n",
       "        text-align: right;\n",
       "    }\n",
       "</style>\n",
       "<table border=\"1\" class=\"dataframe\">\n",
       "  <thead>\n",
       "    <tr style=\"text-align: right;\">\n",
       "      <th></th>\n",
       "      <th>TYPE</th>\n",
       "      <th>YEAR</th>\n",
       "      <th>DATETIME</th>\n",
       "      <th>CCN</th>\n",
       "      <th>AGE</th>\n",
       "      <th>OFFENSE_DISTRICT</th>\n",
       "      <th>OFFENSE_PSA</th>\n",
       "      <th>DEFENDANT_PSA</th>\n",
       "      <th>DEFENDANT_DISTRICT</th>\n",
       "      <th>RACE</th>\n",
       "      <th>ETHNICITY</th>\n",
       "      <th>SEX</th>\n",
       "      <th>DESCRIPTION</th>\n",
       "      <th>ADDRESS</th>\n",
       "    </tr>\n",
       "  </thead>\n",
       "  <tbody>\n",
       "    <tr>\n",
       "      <th>0</th>\n",
       "      <td>Possession</td>\n",
       "      <td>2012</td>\n",
       "      <td>2012/01/01 06:00:00+00</td>\n",
       "      <td>b';\\xc8k~\\xa4iJ'</td>\n",
       "      <td>20.0</td>\n",
       "      <td>5D</td>\n",
       "      <td>501.0</td>\n",
       "      <td>Out of State</td>\n",
       "      <td>Out of State</td>\n",
       "      <td>B</td>\n",
       "      <td>N</td>\n",
       "      <td>F</td>\n",
       "      <td>Ucsa Possession Marijuana</td>\n",
       "      <td>FLORIDA AVE NE</td>\n",
       "    </tr>\n",
       "    <tr>\n",
       "      <th>1</th>\n",
       "      <td>Possession</td>\n",
       "      <td>2012</td>\n",
       "      <td>2012/01/01 06:00:00+00</td>\n",
       "      <td>b';\\xc8k~\\xa4iJ'</td>\n",
       "      <td>23.0</td>\n",
       "      <td>5D</td>\n",
       "      <td>501.0</td>\n",
       "      <td>Out of State</td>\n",
       "      <td>Out of State</td>\n",
       "      <td>B</td>\n",
       "      <td>N</td>\n",
       "      <td>M</td>\n",
       "      <td>Ucsa Possession Marijuana</td>\n",
       "      <td>FLORIDA AVE NE</td>\n",
       "    </tr>\n",
       "    <tr>\n",
       "      <th>2</th>\n",
       "      <td>Possession</td>\n",
       "      <td>2012</td>\n",
       "      <td>2012/01/01 06:00:00+00</td>\n",
       "      <td>b't6\\xa0\\xac\\xec`\\xa4'</td>\n",
       "      <td>46.0</td>\n",
       "      <td>7D</td>\n",
       "      <td>707.0</td>\n",
       "      <td>705</td>\n",
       "      <td>7D</td>\n",
       "      <td>B</td>\n",
       "      <td>N</td>\n",
       "      <td>M</td>\n",
       "      <td>Ucsa Possession Marijuana</td>\n",
       "      <td>3300 BLOCK OF BROTHERS PL SE</td>\n",
       "    </tr>\n",
       "    <tr>\n",
       "      <th>3</th>\n",
       "      <td>Possession</td>\n",
       "      <td>2012</td>\n",
       "      <td>2012/01/01 09:35:00+00</td>\n",
       "      <td>b'\\xbe\\x1d\\xa7\\xf5\\xffWx'</td>\n",
       "      <td>30.0</td>\n",
       "      <td>6D</td>\n",
       "      <td>605.0</td>\n",
       "      <td>605</td>\n",
       "      <td>6D</td>\n",
       "      <td>B</td>\n",
       "      <td>U</td>\n",
       "      <td>M</td>\n",
       "      <td>Ucsa Possession Marijuana</td>\n",
       "      <td>700 BLOCK OF 32ND ST SE</td>\n",
       "    </tr>\n",
       "    <tr>\n",
       "      <th>4</th>\n",
       "      <td>Possession</td>\n",
       "      <td>2012</td>\n",
       "      <td>2012/01/02 21:47:00+00</td>\n",
       "      <td>b'\\x94\\xd2y\\xaa\\xf5\\x1a\\xcc'</td>\n",
       "      <td>33.0</td>\n",
       "      <td>6D</td>\n",
       "      <td>604.0</td>\n",
       "      <td>301</td>\n",
       "      <td>3D</td>\n",
       "      <td>B</td>\n",
       "      <td>N</td>\n",
       "      <td>M</td>\n",
       "      <td>Ucsa Possession Marijuana</td>\n",
       "      <td>UNIT BLOCK OF 55TH ST SE</td>\n",
       "    </tr>\n",
       "  </tbody>\n",
       "</table>\n",
       "</div>"
      ],
      "text/plain": [
       "         TYPE  YEAR                DATETIME                           CCN  \\\n",
       "0  Possession  2012  2012/01/01 06:00:00+00              b';\\xc8k~\\xa4iJ'   \n",
       "1  Possession  2012  2012/01/01 06:00:00+00              b';\\xc8k~\\xa4iJ'   \n",
       "2  Possession  2012  2012/01/01 06:00:00+00        b't6\\xa0\\xac\\xec`\\xa4'   \n",
       "3  Possession  2012  2012/01/01 09:35:00+00     b'\\xbe\\x1d\\xa7\\xf5\\xffWx'   \n",
       "4  Possession  2012  2012/01/02 21:47:00+00  b'\\x94\\xd2y\\xaa\\xf5\\x1a\\xcc'   \n",
       "\n",
       "    AGE OFFENSE_DISTRICT  OFFENSE_PSA DEFENDANT_PSA DEFENDANT_DISTRICT RACE  \\\n",
       "0  20.0               5D        501.0  Out of State       Out of State   B    \n",
       "1  23.0               5D        501.0  Out of State       Out of State   B    \n",
       "2  46.0               7D        707.0           705                 7D   B    \n",
       "3  30.0               6D        605.0           605                 6D   B    \n",
       "4  33.0               6D        604.0           301                 3D   B    \n",
       "\n",
       "  ETHNICITY SEX                DESCRIPTION                       ADDRESS  \n",
       "0        N    F  Ucsa Possession Marijuana                FLORIDA AVE NE  \n",
       "1        N    M  Ucsa Possession Marijuana                FLORIDA AVE NE  \n",
       "2        N    M  Ucsa Possession Marijuana  3300 BLOCK OF BROTHERS PL SE  \n",
       "3        U    M  Ucsa Possession Marijuana       700 BLOCK OF 32ND ST SE  \n",
       "4        N    M  Ucsa Possession Marijuana      UNIT BLOCK OF 55TH ST SE  "
      ]
     },
     "execution_count": 13,
     "metadata": {},
     "output_type": "execute_result"
    }
   ],
   "source": [
    "df.drop('ADULT_JUVENILE',inplace = True,axis=1)\n",
    "df.head()"
   ]
  },
  {
   "cell_type": "markdown",
   "id": "2face48a",
   "metadata": {},
   "source": [
    "The DATETIME column should be formatted as a datetime."
   ]
  },
  {
   "cell_type": "code",
   "execution_count": 14,
   "id": "2e11ba87",
   "metadata": {
    "scrolled": true
   },
   "outputs": [
    {
     "data": {
      "text/plain": [
       "0       2012-01-01 06:00:00+00:00\n",
       "1       2012-01-01 06:00:00+00:00\n",
       "2       2012-01-01 06:00:00+00:00\n",
       "3       2012-01-01 09:35:00+00:00\n",
       "4       2012-01-02 21:47:00+00:00\n",
       "                   ...           \n",
       "11715   2021-12-06 21:00:00+00:00\n",
       "11716   2021-12-23 21:00:00+00:00\n",
       "11717   2021-12-23 21:00:00+00:00\n",
       "11718   2021-04-26 11:00:00+00:00\n",
       "11719   2021-04-26 11:00:00+00:00\n",
       "Name: DATETIME, Length: 11716, dtype: datetime64[ns, UTC]"
      ]
     },
     "execution_count": 14,
     "metadata": {},
     "output_type": "execute_result"
    }
   ],
   "source": [
    "df['DATETIME'] = pd.to_datetime(df['DATETIME'])\n",
    "df.DATETIME"
   ]
  },
  {
   "cell_type": "markdown",
   "id": "f415c05c",
   "metadata": {},
   "source": [
    "We need to standardize the values in the Race column."
   ]
  },
  {
   "cell_type": "code",
   "execution_count": 15,
   "id": "bea8d0e5",
   "metadata": {},
   "outputs": [
    {
     "data": {
      "text/plain": [
       "B     8273\n",
       "B     2275\n",
       "W      501\n",
       "U      388\n",
       "W      222\n",
       "A       34\n",
       "A       22\n",
       "P        1\n",
       "Name: RACE, dtype: int64"
      ]
     },
     "execution_count": 15,
     "metadata": {},
     "output_type": "execute_result"
    }
   ],
   "source": [
    "df.RACE.value_counts()"
   ]
  },
  {
   "cell_type": "code",
   "execution_count": 16,
   "id": "f53e5191",
   "metadata": {},
   "outputs": [
    {
     "data": {
      "text/plain": [
       "array(['B', 'U', 'W', 'A', 'P'], dtype=object)"
      ]
     },
     "execution_count": 16,
     "metadata": {},
     "output_type": "execute_result"
    }
   ],
   "source": [
    "df['RACE'] = df['RACE'].str.replace('B ','B')\n",
    "df['RACE'] = df['RACE'].str.replace('W ','W')\n",
    "df['RACE'] = df['RACE'].str.replace('A ','A')\n",
    "df['RACE'].unique()"
   ]
  },
  {
   "cell_type": "markdown",
   "id": "2f380c34",
   "metadata": {},
   "source": [
    "We have one instance with the 'P' race, which we assume is a human error."
   ]
  },
  {
   "cell_type": "code",
   "execution_count": 17,
   "id": "89bebbdc",
   "metadata": {},
   "outputs": [
    {
     "data": {
      "text/html": [
       "<div>\n",
       "<style scoped>\n",
       "    .dataframe tbody tr th:only-of-type {\n",
       "        vertical-align: middle;\n",
       "    }\n",
       "\n",
       "    .dataframe tbody tr th {\n",
       "        vertical-align: top;\n",
       "    }\n",
       "\n",
       "    .dataframe thead th {\n",
       "        text-align: right;\n",
       "    }\n",
       "</style>\n",
       "<table border=\"1\" class=\"dataframe\">\n",
       "  <thead>\n",
       "    <tr style=\"text-align: right;\">\n",
       "      <th></th>\n",
       "      <th>TYPE</th>\n",
       "      <th>YEAR</th>\n",
       "      <th>DATETIME</th>\n",
       "      <th>CCN</th>\n",
       "      <th>AGE</th>\n",
       "      <th>OFFENSE_DISTRICT</th>\n",
       "      <th>OFFENSE_PSA</th>\n",
       "      <th>DEFENDANT_PSA</th>\n",
       "      <th>DEFENDANT_DISTRICT</th>\n",
       "      <th>RACE</th>\n",
       "      <th>ETHNICITY</th>\n",
       "      <th>SEX</th>\n",
       "      <th>DESCRIPTION</th>\n",
       "      <th>ADDRESS</th>\n",
       "    </tr>\n",
       "  </thead>\n",
       "  <tbody>\n",
       "    <tr>\n",
       "      <th>9729</th>\n",
       "      <td>Public consumption</td>\n",
       "      <td>2018</td>\n",
       "      <td>2018-07-15 02:08:00+00:00</td>\n",
       "      <td>513e87d70061a9b58dcae0d926fca497</td>\n",
       "      <td>22.0</td>\n",
       "      <td>4D</td>\n",
       "      <td>408.0</td>\n",
       "      <td>408</td>\n",
       "      <td>4D</td>\n",
       "      <td>P</td>\n",
       "      <td>U</td>\n",
       "      <td>M</td>\n",
       "      <td>Consumption of marijuana in public space prohi...</td>\n",
       "      <td>1300 BLOCK OF OAK STREET NW</td>\n",
       "    </tr>\n",
       "  </tbody>\n",
       "</table>\n",
       "</div>"
      ],
      "text/plain": [
       "                    TYPE  YEAR                  DATETIME  \\\n",
       "9729  Public consumption  2018 2018-07-15 02:08:00+00:00   \n",
       "\n",
       "                                   CCN   AGE OFFENSE_DISTRICT  OFFENSE_PSA  \\\n",
       "9729  513e87d70061a9b58dcae0d926fca497  22.0               4D        408.0   \n",
       "\n",
       "     DEFENDANT_PSA DEFENDANT_DISTRICT RACE ETHNICITY SEX  \\\n",
       "9729           408                 4D    P         U   M   \n",
       "\n",
       "                                            DESCRIPTION  \\\n",
       "9729  Consumption of marijuana in public space prohi...   \n",
       "\n",
       "                          ADDRESS  \n",
       "9729  1300 BLOCK OF OAK STREET NW  "
      ]
     },
     "execution_count": 17,
     "metadata": {},
     "output_type": "execute_result"
    }
   ],
   "source": [
    "df[df['RACE']=='P']"
   ]
  },
  {
   "cell_type": "markdown",
   "id": "c4b21719",
   "metadata": {},
   "source": [
    "Let's change it on 'U' like Unknown:"
   ]
  },
  {
   "cell_type": "code",
   "execution_count": 18,
   "id": "ef4c611e",
   "metadata": {},
   "outputs": [
    {
     "data": {
      "text/html": [
       "<div>\n",
       "<style scoped>\n",
       "    .dataframe tbody tr th:only-of-type {\n",
       "        vertical-align: middle;\n",
       "    }\n",
       "\n",
       "    .dataframe tbody tr th {\n",
       "        vertical-align: top;\n",
       "    }\n",
       "\n",
       "    .dataframe thead th {\n",
       "        text-align: right;\n",
       "    }\n",
       "</style>\n",
       "<table border=\"1\" class=\"dataframe\">\n",
       "  <thead>\n",
       "    <tr style=\"text-align: right;\">\n",
       "      <th></th>\n",
       "      <th>TYPE</th>\n",
       "      <th>YEAR</th>\n",
       "      <th>DATETIME</th>\n",
       "      <th>CCN</th>\n",
       "      <th>AGE</th>\n",
       "      <th>OFFENSE_DISTRICT</th>\n",
       "      <th>OFFENSE_PSA</th>\n",
       "      <th>DEFENDANT_PSA</th>\n",
       "      <th>DEFENDANT_DISTRICT</th>\n",
       "      <th>RACE</th>\n",
       "      <th>ETHNICITY</th>\n",
       "      <th>SEX</th>\n",
       "      <th>DESCRIPTION</th>\n",
       "      <th>ADDRESS</th>\n",
       "    </tr>\n",
       "  </thead>\n",
       "  <tbody>\n",
       "  </tbody>\n",
       "</table>\n",
       "</div>"
      ],
      "text/plain": [
       "Empty DataFrame\n",
       "Columns: [TYPE, YEAR, DATETIME, CCN, AGE, OFFENSE_DISTRICT, OFFENSE_PSA, DEFENDANT_PSA, DEFENDANT_DISTRICT, RACE, ETHNICITY, SEX, DESCRIPTION, ADDRESS]\n",
       "Index: []"
      ]
     },
     "execution_count": 18,
     "metadata": {},
     "output_type": "execute_result"
    }
   ],
   "source": [
    "df['RACE'] = np.where(df['RACE']=='P','U',df['RACE'])\n",
    "df[df['RACE']=='P']"
   ]
  },
  {
   "cell_type": "markdown",
   "id": "f4d79d70",
   "metadata": {},
   "source": [
    "We need unify Ethnicity values: "
   ]
  },
  {
   "cell_type": "code",
   "execution_count": 19,
   "id": "85700c03",
   "metadata": {},
   "outputs": [
    {
     "data": {
      "text/plain": [
       "N     6195\n",
       "U     2605\n",
       "N     1832\n",
       "U      648\n",
       "H      342\n",
       "H       94\n",
       "Name: ETHNICITY, dtype: int64"
      ]
     },
     "execution_count": 19,
     "metadata": {},
     "output_type": "execute_result"
    }
   ],
   "source": [
    "df['ETHNICITY'].value_counts()"
   ]
  },
  {
   "cell_type": "code",
   "execution_count": 20,
   "id": "5c2bbbca",
   "metadata": {},
   "outputs": [
    {
     "data": {
      "text/plain": [
       "N    8027\n",
       "U    3253\n",
       "H     436\n",
       "Name: ETHNICITY, dtype: int64"
      ]
     },
     "execution_count": 20,
     "metadata": {},
     "output_type": "execute_result"
    }
   ],
   "source": [
    "df['ETHNICITY'] = df['ETHNICITY'].str.replace('N ','N')\n",
    "df['ETHNICITY'] = df['ETHNICITY'].str.replace('U ','U')\n",
    "df['ETHNICITY'] = df['ETHNICITY'].str.replace('H ','H')\n",
    "df['ETHNICITY'].value_counts()"
   ]
  },
  {
   "cell_type": "markdown",
   "id": "2532f69b",
   "metadata": {},
   "source": [
    "There are 12 instances with an unknown sex:"
   ]
  },
  {
   "cell_type": "code",
   "execution_count": 21,
   "id": "c2e6d5ff",
   "metadata": {},
   "outputs": [
    {
     "data": {
      "text/plain": [
       "M    10501\n",
       "F     1203\n",
       "U       12\n",
       "Name: SEX, dtype: int64"
      ]
     },
     "execution_count": 21,
     "metadata": {},
     "output_type": "execute_result"
    }
   ],
   "source": [
    "df['SEX'].value_counts()"
   ]
  },
  {
   "cell_type": "markdown",
   "id": "c7a23e1b",
   "metadata": {},
   "source": [
    "Therefore, I assigned genders 'U' proportionally based on the entire sample of men and women.\n",
    "    \n",
    "    x/y = 1203/10501\n",
    "    x+y = 12"
   ]
  },
  {
   "cell_type": "code",
   "execution_count": 22,
   "id": "b38f64ac",
   "metadata": {},
   "outputs": [
    {
     "data": {
      "text/plain": [
       "0.11"
      ]
     },
     "execution_count": 22,
     "metadata": {},
     "output_type": "execute_result"
    }
   ],
   "source": [
    "round(1203/10501,2)"
   ]
  },
  {
   "cell_type": "markdown",
   "id": "8f20980b",
   "metadata": {},
   "source": [
    "System of equations:\n",
    "\n",
    "    x = 0.11*y\n",
    "    x+y = 12\n",
    "\n",
    "We can obtain an approximate result and use it:\n",
    "\n",
    "    Male - 11\n",
    "    Female - 1"
   ]
  },
  {
   "cell_type": "code",
   "execution_count": 23,
   "id": "473f8486",
   "metadata": {},
   "outputs": [
    {
     "data": {
      "text/plain": [
       "2828     U\n",
       "3686     U\n",
       "4066     U\n",
       "4073     U\n",
       "5136     U\n",
       "5576     U\n",
       "5794     U\n",
       "6540     U\n",
       "6679     U\n",
       "7144     U\n",
       "8652     U\n",
       "10695    U\n",
       "Name: SEX, dtype: object"
      ]
     },
     "execution_count": 23,
     "metadata": {},
     "output_type": "execute_result"
    }
   ],
   "source": [
    "df[df['SEX']=='U']['SEX']"
   ]
  },
  {
   "cell_type": "code",
   "execution_count": 24,
   "id": "832e34c8",
   "metadata": {},
   "outputs": [],
   "source": [
    "#change 1 value to 'F'\n",
    "df.loc[2828,'SEX']='F'\n",
    "#change 11 values to 'M'\n",
    "df['SEX']=np.where(df['SEX']=='U','M',df['SEX'])"
   ]
  },
  {
   "cell_type": "code",
   "execution_count": 25,
   "id": "095af580",
   "metadata": {},
   "outputs": [
    {
     "data": {
      "text/plain": [
       "M    10512\n",
       "F     1204\n",
       "Name: SEX, dtype: int64"
      ]
     },
     "execution_count": 25,
     "metadata": {},
     "output_type": "execute_result"
    }
   ],
   "source": [
    "df['SEX'].value_counts()"
   ]
  },
  {
   "cell_type": "markdown",
   "id": "5f227c82",
   "metadata": {},
   "source": [
    "Let's examine the numeric data. It's worth noting that OFFENSE_PSA and DEFENDANT_PSA are names of police offices, indicating that this data should be treated as categorical. "
   ]
  },
  {
   "cell_type": "code",
   "execution_count": 26,
   "id": "a3f82066",
   "metadata": {},
   "outputs": [
    {
     "data": {
      "text/html": [
       "<div>\n",
       "<style scoped>\n",
       "    .dataframe tbody tr th:only-of-type {\n",
       "        vertical-align: middle;\n",
       "    }\n",
       "\n",
       "    .dataframe tbody tr th {\n",
       "        vertical-align: top;\n",
       "    }\n",
       "\n",
       "    .dataframe thead th {\n",
       "        text-align: right;\n",
       "    }\n",
       "</style>\n",
       "<table border=\"1\" class=\"dataframe\">\n",
       "  <thead>\n",
       "    <tr style=\"text-align: right;\">\n",
       "      <th></th>\n",
       "      <th>YEAR</th>\n",
       "      <th>AGE</th>\n",
       "      <th>OFFENSE_PSA</th>\n",
       "    </tr>\n",
       "  </thead>\n",
       "  <tbody>\n",
       "    <tr>\n",
       "      <th>count</th>\n",
       "      <td>11716.000000</td>\n",
       "      <td>11716.000000</td>\n",
       "      <td>11716.000000</td>\n",
       "    </tr>\n",
       "    <tr>\n",
       "      <th>mean</th>\n",
       "      <td>2014.692984</td>\n",
       "      <td>29.495903</td>\n",
       "      <td>471.431547</td>\n",
       "    </tr>\n",
       "    <tr>\n",
       "      <th>std</th>\n",
       "      <td>2.728279</td>\n",
       "      <td>10.209729</td>\n",
       "      <td>189.610619</td>\n",
       "    </tr>\n",
       "    <tr>\n",
       "      <th>min</th>\n",
       "      <td>2012.000000</td>\n",
       "      <td>18.000000</td>\n",
       "      <td>101.000000</td>\n",
       "    </tr>\n",
       "    <tr>\n",
       "      <th>25%</th>\n",
       "      <td>2012.000000</td>\n",
       "      <td>22.000000</td>\n",
       "      <td>305.000000</td>\n",
       "    </tr>\n",
       "    <tr>\n",
       "      <th>50%</th>\n",
       "      <td>2014.000000</td>\n",
       "      <td>26.000000</td>\n",
       "      <td>506.000000</td>\n",
       "    </tr>\n",
       "    <tr>\n",
       "      <th>75%</th>\n",
       "      <td>2017.000000</td>\n",
       "      <td>34.000000</td>\n",
       "      <td>607.000000</td>\n",
       "    </tr>\n",
       "    <tr>\n",
       "      <th>max</th>\n",
       "      <td>2021.000000</td>\n",
       "      <td>81.000000</td>\n",
       "      <td>708.000000</td>\n",
       "    </tr>\n",
       "  </tbody>\n",
       "</table>\n",
       "</div>"
      ],
      "text/plain": [
       "               YEAR           AGE   OFFENSE_PSA\n",
       "count  11716.000000  11716.000000  11716.000000\n",
       "mean    2014.692984     29.495903    471.431547\n",
       "std        2.728279     10.209729    189.610619\n",
       "min     2012.000000     18.000000    101.000000\n",
       "25%     2012.000000     22.000000    305.000000\n",
       "50%     2014.000000     26.000000    506.000000\n",
       "75%     2017.000000     34.000000    607.000000\n",
       "max     2021.000000     81.000000    708.000000"
      ]
     },
     "execution_count": 26,
     "metadata": {},
     "output_type": "execute_result"
    }
   ],
   "source": [
    "df.describe()"
   ]
  },
  {
   "cell_type": "markdown",
   "id": "1e7442ef",
   "metadata": {},
   "source": [
    "Let's convert OFFENSE_PSA column to the str Pandas data type to ensure uniformity."
   ]
  },
  {
   "cell_type": "code",
   "execution_count": 27,
   "id": "ee80eefa",
   "metadata": {},
   "outputs": [],
   "source": [
    "df['OFFENSE_PSA'] = df['OFFENSE_PSA'].astype('str')"
   ]
  },
  {
   "cell_type": "code",
   "execution_count": 28,
   "id": "11243098",
   "metadata": {},
   "outputs": [
    {
     "name": "stdout",
     "output_type": "stream",
     "text": [
      "<class 'pandas.core.frame.DataFrame'>\n",
      "Int64Index: 11716 entries, 0 to 11719\n",
      "Data columns (total 14 columns):\n",
      " #   Column              Non-Null Count  Dtype              \n",
      "---  ------              --------------  -----              \n",
      " 0   TYPE                11716 non-null  object             \n",
      " 1   YEAR                11716 non-null  int64              \n",
      " 2   DATETIME            11716 non-null  datetime64[ns, UTC]\n",
      " 3   CCN                 11716 non-null  object             \n",
      " 4   AGE                 11716 non-null  float64            \n",
      " 5   OFFENSE_DISTRICT    11716 non-null  object             \n",
      " 6   OFFENSE_PSA         11716 non-null  object             \n",
      " 7   DEFENDANT_PSA       11716 non-null  object             \n",
      " 8   DEFENDANT_DISTRICT  11716 non-null  object             \n",
      " 9   RACE                11716 non-null  object             \n",
      " 10  ETHNICITY           11716 non-null  object             \n",
      " 11  SEX                 11716 non-null  object             \n",
      " 12  DESCRIPTION         11716 non-null  object             \n",
      " 13  ADDRESS             11716 non-null  object             \n",
      "dtypes: datetime64[ns, UTC](1), float64(1), int64(1), object(11)\n",
      "memory usage: 1.6+ MB\n"
     ]
    }
   ],
   "source": [
    "df.info()"
   ]
  },
  {
   "cell_type": "markdown",
   "id": "95f78298",
   "metadata": {},
   "source": [
    "## Exploratory Data Analysis"
   ]
  },
  {
   "cell_type": "markdown",
   "id": "68c4ae6a",
   "metadata": {},
   "source": [
    "### 1). General characteristics"
   ]
  },
  {
   "cell_type": "markdown",
   "id": "9e7a2111",
   "metadata": {},
   "source": [
    "Let's begin by examining the distribution of arrests per year. As we can see, the number of arrests decreased after the change in the law in 2015."
   ]
  },
  {
   "cell_type": "markdown",
   "id": "63db0f88",
   "metadata": {},
   "source": [
    "In November 2014, District voters approved the Legalization of Possession of Minimal Amounts of Marijuana for Personal Use Initiative (commonly known as Initiative 71). The new law becomes effective on February 26, 2015.\n",
    "\n",
    "As a result, it is legal for a person who is at least 21 years old to:\n",
    "\n",
    "Possess two ounces or less of marijuana;\n",
    "Transfer one ounce or less of marijuana to another person who is at least 21 years old, so long as there is no payment made or any other type of exchange of goods or services;\n",
    "Cultivate within their residence up to six marijuana plants, no more than three of which are mature;\n",
    "Possess marijuana-related drug paraphernalia – such as bongs, cigarette rolling papers, and cigar wrappers – that is associated with one ounce or less of marijuana; or\n",
    "Use marijuana on private property.\n",
    "What is still a criminal violation?\n",
    "A person can still be arrested for:\n",
    "\n",
    "Selling any amount of marijuana to another person;\n",
    "Possessing more than two ounces of marijuana;\n",
    "Operating a vehicle or boat under the influence of marijuana; or\n",
    "Smoking, eating, or drinking marijuana – or holding or carrying a lighted roll of paper or other lighted smoking equipment filled with marijuana – in any public space, such as:\n",
    "On any street, sidewalk, alley, park, or parking area;\n",
    "In a vehicle on any street, alley, park, or parking area; or\n",
    "Any place to which the public is invited."
   ]
  },
  {
   "cell_type": "code",
   "execution_count": 29,
   "id": "81001d64",
   "metadata": {},
   "outputs": [
    {
     "data": {
      "text/plain": [
       "<AxesSubplot:xlabel='YEAR', ylabel='count'>"
      ]
     },
     "execution_count": 29,
     "metadata": {},
     "output_type": "execute_result"
    },
    {
     "data": {
      "image/png": "[encoded data removed]",
      "text/plain": [
       "<Figure size 864x432 with 1 Axes>"
      ]
     },
     "metadata": {
      "needs_background": "light"
     },
     "output_type": "display_data"
    }
   ],
   "source": [
    "plt.figure(figsize=(12,6))\n",
    "sns.countplot(x=df['YEAR'],data = df)"
   ]
  },
  {
   "cell_type": "markdown",
   "id": "e33bce4f",
   "metadata": {},
   "source": [
    "The occurrence of \"Possession with intent to distribute\" offenses stayed the same before and after the law change, indicating no significant change in frequency. So, we can combine \"Possession with intent to distribute\" and \"Distribution\" types into a single category for the distribution analysis."
   ]
  },
  {
   "cell_type": "code",
   "execution_count": 30,
   "id": "f3765774",
   "metadata": {},
   "outputs": [
    {
     "data": {
      "text/plain": [
       "Possession            5457\n",
       "Distribution          5214\n",
       "Public consumption    1045\n",
       "Name: NEW_TYPES, dtype: int64"
      ]
     },
     "execution_count": 30,
     "metadata": {},
     "output_type": "execute_result"
    }
   ],
   "source": [
    "df['NEW_TYPES'] = np.where(df['TYPE']=='Possession with intent to distribute','Distribution',df['TYPE'])\n",
    "df['NEW_TYPES'].value_counts()"
   ]
  },
  {
   "cell_type": "markdown",
   "id": "cd5919d1",
   "metadata": {},
   "source": [
    "If we examine how the frequency of offenses changes after altering the law, we notice that the category of \"Possession\" decreases several times, while \"Distribution\" remains at a similar level."
   ]
  },
  {
   "cell_type": "code",
   "execution_count": 31,
   "id": "ed552b6f",
   "metadata": {},
   "outputs": [
    {
     "data": {
      "text/plain": [
       "<AxesSubplot:xlabel='YEAR', ylabel='count'>"
      ]
     },
     "execution_count": 31,
     "metadata": {},
     "output_type": "execute_result"
    },
    {
     "data": {
      "image/png": "[encoded data removed]",
      "text/plain": [
       "<Figure size 864x432 with 1 Axes>"
      ]
     },
     "metadata": {
      "needs_background": "light"
     },
     "output_type": "display_data"
    }
   ],
   "source": [
    "plt.figure(figsize=(12,6))\n",
    "sns.countplot(x='YEAR',data=df,hue='NEW_TYPES',palette='rainbow')"
   ]
  },
  {
   "cell_type": "markdown",
   "id": "5be00b19",
   "metadata": {},
   "source": [
    "We can also identify the district with the highest number of offenses by type recorded. "
   ]
  },
  {
   "cell_type": "code",
   "execution_count": 32,
   "id": "e854009d",
   "metadata": {},
   "outputs": [
    {
     "data": {
      "text/plain": [
       "<AxesSubplot:xlabel='OFFENSE_DISTRICT', ylabel='count'>"
      ]
     },
     "execution_count": 32,
     "metadata": {},
     "output_type": "execute_result"
    },
    {
     "data": {
      "image/png": "[encoded data removed]",
      "text/plain": [
       "<Figure size 864x432 with 1 Axes>"
      ]
     },
     "metadata": {
      "needs_background": "light"
     },
     "output_type": "display_data"
    }
   ],
   "source": [
    "plt.figure(figsize=(12,6))\n",
    "sns.countplot(x='OFFENSE_DISTRICT',data=df,hue='NEW_TYPES',palette='rainbow')"
   ]
  },
  {
   "cell_type": "markdown",
   "id": "8ca7c2c6",
   "metadata": {},
   "source": [
    "Let's examine the distribution among gender groups based on the new types:"
   ]
  },
  {
   "cell_type": "code",
   "execution_count": 33,
   "id": "70338963",
   "metadata": {},
   "outputs": [
    {
     "data": {
      "text/plain": [
       "<AxesSubplot:xlabel='NEW_TYPES', ylabel='AGE'>"
      ]
     },
     "execution_count": 33,
     "metadata": {},
     "output_type": "execute_result"
    },
    {
     "data": {
      "image/png": "[encoded data removed]",
      "text/plain": [
       "<Figure size 864x432 with 1 Axes>"
      ]
     },
     "metadata": {
      "needs_background": "light"
     },
     "output_type": "display_data"
    }
   ],
   "source": [
    "plt.figure(figsize=(12,6))\n",
    "sns.violinplot(x='NEW_TYPES',y='AGE',hue='SEX',data=df,split=True)"
   ]
  },
  {
   "cell_type": "markdown",
   "id": "b163beed",
   "metadata": {},
   "source": [
    "Let's see race and gender specific:"
   ]
  },
  {
   "cell_type": "code",
   "execution_count": 34,
   "id": "e0ba62a2",
   "metadata": {},
   "outputs": [
    {
     "data": {
      "image/png": "[encoded data removed]",
      "text/plain": [
       "<Figure size 864x432 with 1 Axes>"
      ]
     },
     "metadata": {
      "needs_background": "light"
     },
     "output_type": "display_data"
    }
   ],
   "source": [
    "plt.figure(figsize=(12,6))\n",
    "ax = sns.countplot(x='SEX',data=df,hue='RACE',palette='rainbow')\n",
    "\n",
    "for container in ax.containers:\n",
    "    ax.bar_label(container)"
   ]
  },
  {
   "cell_type": "markdown",
   "id": "374bc87e",
   "metadata": {},
   "source": [
    "Examining the outcomes across various age groups is quite interesting."
   ]
  },
  {
   "cell_type": "code",
   "execution_count": 35,
   "id": "90191ccb",
   "metadata": {},
   "outputs": [
    {
     "data": {
      "image/png": "[encoded data removed]",
      "text/plain": [
       "<Figure size 864x432 with 1 Axes>"
      ]
     },
     "metadata": {
      "needs_background": "light"
     },
     "output_type": "display_data"
    }
   ],
   "source": [
    "df['AGE_GROUP'] = df['AGE'].apply(lambda x: '<21' if x<21 else ('21-39' if x < 40 else ('40-59' if x <60 else '>=60')))\n",
    "\n",
    "\n",
    "plt.figure(figsize=(12,6))\n",
    "ax = sns.countplot(x='SEX',data=df,hue='AGE_GROUP',palette='rainbow')\n",
    "for container in ax.containers:\n",
    "    ax.bar_label(container)"
   ]
  },
  {
   "cell_type": "markdown",
   "id": "a498c020",
   "metadata": {},
   "source": [
    "### 2). Districts analysis"
   ]
  },
  {
   "cell_type": "markdown",
   "id": "6c5a453a",
   "metadata": {},
   "source": [
    "\n",
    "\n",
    "\n",
    "\n",
    "We could suggest that the districts correspond to various police offices, which begin numbering from the district number and continue with zero. To ensure accuracy, we should verify each one.\n",
    "\n",
    "It appears that every district has outliers, which we assume are rare cases. These outliers may have been relocated to another office due to certain reasons."
   ]
  },
  {
   "cell_type": "code",
   "execution_count": 36,
   "id": "fb6bd40c",
   "metadata": {},
   "outputs": [
    {
     "data": {
      "text/html": [
       "<div>\n",
       "<style scoped>\n",
       "    .dataframe tbody tr th:only-of-type {\n",
       "        vertical-align: middle;\n",
       "    }\n",
       "\n",
       "    .dataframe tbody tr th {\n",
       "        vertical-align: top;\n",
       "    }\n",
       "\n",
       "    .dataframe thead th {\n",
       "        text-align: right;\n",
       "    }\n",
       "</style>\n",
       "<table border=\"1\" class=\"dataframe\">\n",
       "  <thead>\n",
       "    <tr style=\"text-align: right;\">\n",
       "      <th></th>\n",
       "      <th>PSA1</th>\n",
       "      <th>PSA2</th>\n",
       "      <th>PSA3</th>\n",
       "      <th>PSA4</th>\n",
       "      <th>PSA5</th>\n",
       "      <th>PSA6</th>\n",
       "      <th>PSA7</th>\n",
       "    </tr>\n",
       "  </thead>\n",
       "  <tbody>\n",
       "    <tr>\n",
       "      <th>1D</th>\n",
       "      <td>1020.0</td>\n",
       "      <td>0.0</td>\n",
       "      <td>0.0</td>\n",
       "      <td>0.0</td>\n",
       "      <td>1.0</td>\n",
       "      <td>1.0</td>\n",
       "      <td>1.0</td>\n",
       "    </tr>\n",
       "    <tr>\n",
       "      <th>2D</th>\n",
       "      <td>0.0</td>\n",
       "      <td>537.0</td>\n",
       "      <td>0.0</td>\n",
       "      <td>0.0</td>\n",
       "      <td>0.0</td>\n",
       "      <td>0.0</td>\n",
       "      <td>0.0</td>\n",
       "    </tr>\n",
       "    <tr>\n",
       "      <th>3D</th>\n",
       "      <td>3.0</td>\n",
       "      <td>0.0</td>\n",
       "      <td>2206.0</td>\n",
       "      <td>0.0</td>\n",
       "      <td>1.0</td>\n",
       "      <td>0.0</td>\n",
       "      <td>0.0</td>\n",
       "    </tr>\n",
       "    <tr>\n",
       "      <th>4D</th>\n",
       "      <td>0.0</td>\n",
       "      <td>0.0</td>\n",
       "      <td>0.0</td>\n",
       "      <td>1114.0</td>\n",
       "      <td>0.0</td>\n",
       "      <td>0.0</td>\n",
       "      <td>0.0</td>\n",
       "    </tr>\n",
       "    <tr>\n",
       "      <th>5D</th>\n",
       "      <td>0.0</td>\n",
       "      <td>0.0</td>\n",
       "      <td>0.0</td>\n",
       "      <td>0.0</td>\n",
       "      <td>1968.0</td>\n",
       "      <td>0.0</td>\n",
       "      <td>0.0</td>\n",
       "    </tr>\n",
       "    <tr>\n",
       "      <th>6D</th>\n",
       "      <td>0.0</td>\n",
       "      <td>0.0</td>\n",
       "      <td>0.0</td>\n",
       "      <td>0.0</td>\n",
       "      <td>0.0</td>\n",
       "      <td>2391.0</td>\n",
       "      <td>0.0</td>\n",
       "    </tr>\n",
       "    <tr>\n",
       "      <th>7D</th>\n",
       "      <td>0.0</td>\n",
       "      <td>0.0</td>\n",
       "      <td>0.0</td>\n",
       "      <td>0.0</td>\n",
       "      <td>0.0</td>\n",
       "      <td>0.0</td>\n",
       "      <td>2473.0</td>\n",
       "    </tr>\n",
       "  </tbody>\n",
       "</table>\n",
       "</div>"
      ],
      "text/plain": [
       "      PSA1   PSA2    PSA3    PSA4    PSA5    PSA6    PSA7\n",
       "1D  1020.0    0.0     0.0     0.0     1.0     1.0     1.0\n",
       "2D     0.0  537.0     0.0     0.0     0.0     0.0     0.0\n",
       "3D     3.0    0.0  2206.0     0.0     1.0     0.0     0.0\n",
       "4D     0.0    0.0     0.0  1114.0     0.0     0.0     0.0\n",
       "5D     0.0    0.0     0.0     0.0  1968.0     0.0     0.0\n",
       "6D     0.0    0.0     0.0     0.0     0.0  2391.0     0.0\n",
       "7D     0.0    0.0     0.0     0.0     0.0     0.0  2473.0"
      ]
     },
     "execution_count": 36,
     "metadata": {},
     "output_type": "execute_result"
    }
   ],
   "source": [
    "data  = {'PSA1':df[df['OFFENSE_PSA'].str.contains('10')]['OFFENSE_DISTRICT'].value_counts(),\n",
    "        'PSA2':df[df['OFFENSE_PSA'].str.contains('20')]['OFFENSE_DISTRICT'].value_counts(),\n",
    "        'PSA3':df[df['OFFENSE_PSA'].str.contains('30')]['OFFENSE_DISTRICT'].value_counts(),\n",
    "        'PSA4':df[df['OFFENSE_PSA'].str.contains('40')]['OFFENSE_DISTRICT'].value_counts(),\n",
    "        'PSA5':df[df['OFFENSE_PSA'].str.contains('50')]['OFFENSE_DISTRICT'].value_counts(),\n",
    "        'PSA6':df[df['OFFENSE_PSA'].str.contains('60')]['OFFENSE_DISTRICT'].value_counts(),\n",
    "        'PSA7':df[df['OFFENSE_PSA'].str.contains('70')]['OFFENSE_DISTRICT'].value_counts()}\n",
    "distr = pd.DataFrame(data=data, index=['1D','2D','3D','4D','5D','6D','7D']).fillna(value=0)\n",
    "distr"
   ]
  },
  {
   "cell_type": "markdown",
   "id": "f1a32a6d",
   "metadata": {},
   "source": [
    "We can observe that the frequency of arrests related to possession has decreased significantly, while the number of arrests for public consumption has risen four to fivefold. This could be attributed to offenses related to consumption that were previously categorized as possession. "
   ]
  },
  {
   "cell_type": "code",
   "execution_count": 37,
   "id": "574dd8cf",
   "metadata": {},
   "outputs": [
    {
     "data": {
      "image/png": "[encoded data removed]",
      "text/plain": [
       "<Figure size 864x432 with 1 Axes>"
      ]
     },
     "metadata": {
      "needs_background": "light"
     },
     "output_type": "display_data"
    }
   ],
   "source": [
    "#law_changes = df[df['YEAR']<2018]\n",
    "#law_changes['LAW_CHANGING'] = np.where(law_changes['YEAR']<2015,'before 2015','after 2015')\n",
    "\n",
    "df['LAW_CHANGES'] = df['YEAR'].apply(lambda x: 'before 2015' if x<2015 else ('after 2015' if x < 2018 else ('after 2017' )))\n",
    "\n",
    "\n",
    "plt.figure(figsize=(12,6))\n",
    "ax=sns.countplot(data=df,x='NEW_TYPES',hue='LAW_CHANGES',palette='rainbow')\n",
    "for container in ax.containers:\n",
    "    ax.bar_label(container)"
   ]
  },
  {
   "cell_type": "markdown",
   "id": "b401a6d4",
   "metadata": {},
   "source": [
    "Let's identify which police offices within the leading districts (7D, 6D, 3D) recorded more offenses in the \n",
    "* three years before (2012-2014), \n",
    "* three years after (2015-2017)\n",
    "\n",
    "the change in the law and\n",
    "\n",
    "* after 2017 (2018-2021)."
   ]
  },
  {
   "cell_type": "code",
   "execution_count": 38,
   "id": "4c19aadd",
   "metadata": {},
   "outputs": [
    {
     "data": {
      "text/plain": [
       "[Text(0.5, 1.0, '3D')]"
      ]
     },
     "execution_count": 38,
     "metadata": {},
     "output_type": "execute_result"
    },
    {
     "data": {
      "image/png": "[encoded data removed]",
      "text/plain": [
       "<Figure size 1512x504 with 3 Axes>"
      ]
     },
     "metadata": {
      "needs_background": "light"
     },
     "output_type": "display_data"
    }
   ],
   "source": [
    "fig, ax = plt.subplots(1,3)\n",
    "fig.set_size_inches(21, 7)\n",
    "\n",
    "sns.countplot(data=df[df['OFFENSE_DISTRICT']=='7D'],x='OFFENSE_PSA',hue='LAW_CHANGES',palette='rainbow',ax=ax[0]).set(title='7D')\n",
    "sns.countplot(data=df[df['OFFENSE_DISTRICT']=='6D'],x='OFFENSE_PSA',hue='LAW_CHANGES',palette='cubehelix',ax=ax[1]).set(title='6D')\n",
    "sns.countplot(data=df[df['OFFENSE_DISTRICT']=='3D'],x='OFFENSE_PSA',hue='LAW_CHANGES',palette='mako',ax=ax[2]).set(title='3D')\n"
   ]
  },
  {
   "cell_type": "markdown",
   "id": "415a4f6e",
   "metadata": {
    "scrolled": true
   },
   "source": [
    "### 3). The most common time for arrests.\n",
    "#### All arrests types"
   ]
  },
  {
   "cell_type": "markdown",
   "id": "4009278a",
   "metadata": {},
   "source": [
    "It would be more convenient to work with separate dataframes for months, days of the week, and times. Let's create these dataframes for generating heatmaps."
   ]
  },
  {
   "cell_type": "code",
   "execution_count": 39,
   "id": "71c2bd42",
   "metadata": {},
   "outputs": [],
   "source": [
    "#DAYS \n",
    "dmap = ['Monday', 'Tuesday', 'Wednesday', 'Thursday', 'Friday', 'Saturday', 'Sunday']\n",
    "df['DAY_OF_WEEK'] = df['DATETIME'].dt.dayofweek\n",
    "#df['DAY_OF_WEEK'] = pd.Categorical(df['DAY_OF_WEEK'], categories=range(7), ordered=True)\n",
    "\n",
    "\n",
    "#MONTHS\n",
    "months = ['Jan', 'Feb', 'Mar', 'Apr','May', 'Jun', 'Jul', 'Aug', 'Sep', 'Oct', 'Nov', 'Dec']\n",
    "df['MONTH'] = df['DATETIME'].dt.month_name().str[:3]\n",
    "df['MONTH'] = pd.Categorical(df['MONTH'], categories=months, ordered=True)\n",
    "\n",
    "\n",
    "\n",
    "#DataFrames\n",
    "\n",
    "DayMonth = df.groupby(by=['DAY_OF_WEEK','MONTH']).count()['TYPE'].unstack()\n",
    "dictmap = {0: 'Monday', 1: 'Tuesday', 2: 'Wednesday', 3: 'Thursday', 4: 'Friday', 5: 'Saturday', 6: 'Sunday'}\n",
    "DayMonth = DayMonth.rename(index=dictmap)\n",
    "\n",
    "YearMonth = df.groupby(by=['MONTH','YEAR']).count()['TYPE'].unstack()"
   ]
  },
  {
   "cell_type": "code",
   "execution_count": 40,
   "id": "2c19e85a",
   "metadata": {},
   "outputs": [
    {
     "data": {
      "text/html": [
       "<div>\n",
       "<style scoped>\n",
       "    .dataframe tbody tr th:only-of-type {\n",
       "        vertical-align: middle;\n",
       "    }\n",
       "\n",
       "    .dataframe tbody tr th {\n",
       "        vertical-align: top;\n",
       "    }\n",
       "\n",
       "    .dataframe thead th {\n",
       "        text-align: right;\n",
       "    }\n",
       "</style>\n",
       "<table border=\"1\" class=\"dataframe\">\n",
       "  <thead>\n",
       "    <tr style=\"text-align: right;\">\n",
       "      <th>MONTH</th>\n",
       "      <th>Jan</th>\n",
       "      <th>Feb</th>\n",
       "      <th>Mar</th>\n",
       "      <th>Apr</th>\n",
       "      <th>May</th>\n",
       "      <th>Jun</th>\n",
       "      <th>Jul</th>\n",
       "      <th>Aug</th>\n",
       "      <th>Sep</th>\n",
       "      <th>Oct</th>\n",
       "      <th>Nov</th>\n",
       "      <th>Dec</th>\n",
       "    </tr>\n",
       "    <tr>\n",
       "      <th>DAY_OF_WEEK</th>\n",
       "      <th></th>\n",
       "      <th></th>\n",
       "      <th></th>\n",
       "      <th></th>\n",
       "      <th></th>\n",
       "      <th></th>\n",
       "      <th></th>\n",
       "      <th></th>\n",
       "      <th></th>\n",
       "      <th></th>\n",
       "      <th></th>\n",
       "      <th></th>\n",
       "    </tr>\n",
       "  </thead>\n",
       "  <tbody>\n",
       "    <tr>\n",
       "      <th>Monday</th>\n",
       "      <td>81</td>\n",
       "      <td>74</td>\n",
       "      <td>78</td>\n",
       "      <td>86</td>\n",
       "      <td>82</td>\n",
       "      <td>63</td>\n",
       "      <td>83</td>\n",
       "      <td>62</td>\n",
       "      <td>52</td>\n",
       "      <td>48</td>\n",
       "      <td>55</td>\n",
       "      <td>50</td>\n",
       "    </tr>\n",
       "    <tr>\n",
       "      <th>Tuesday</th>\n",
       "      <td>119</td>\n",
       "      <td>77</td>\n",
       "      <td>147</td>\n",
       "      <td>130</td>\n",
       "      <td>132</td>\n",
       "      <td>161</td>\n",
       "      <td>154</td>\n",
       "      <td>100</td>\n",
       "      <td>87</td>\n",
       "      <td>111</td>\n",
       "      <td>78</td>\n",
       "      <td>92</td>\n",
       "    </tr>\n",
       "    <tr>\n",
       "      <th>Wednesday</th>\n",
       "      <td>165</td>\n",
       "      <td>157</td>\n",
       "      <td>168</td>\n",
       "      <td>167</td>\n",
       "      <td>237</td>\n",
       "      <td>177</td>\n",
       "      <td>180</td>\n",
       "      <td>140</td>\n",
       "      <td>120</td>\n",
       "      <td>145</td>\n",
       "      <td>128</td>\n",
       "      <td>133</td>\n",
       "    </tr>\n",
       "    <tr>\n",
       "      <th>Thursday</th>\n",
       "      <td>187</td>\n",
       "      <td>182</td>\n",
       "      <td>177</td>\n",
       "      <td>183</td>\n",
       "      <td>208</td>\n",
       "      <td>205</td>\n",
       "      <td>154</td>\n",
       "      <td>195</td>\n",
       "      <td>159</td>\n",
       "      <td>148</td>\n",
       "      <td>122</td>\n",
       "      <td>129</td>\n",
       "    </tr>\n",
       "    <tr>\n",
       "      <th>Friday</th>\n",
       "      <td>176</td>\n",
       "      <td>186</td>\n",
       "      <td>200</td>\n",
       "      <td>178</td>\n",
       "      <td>249</td>\n",
       "      <td>196</td>\n",
       "      <td>133</td>\n",
       "      <td>177</td>\n",
       "      <td>185</td>\n",
       "      <td>146</td>\n",
       "      <td>140</td>\n",
       "      <td>117</td>\n",
       "    </tr>\n",
       "    <tr>\n",
       "      <th>Saturday</th>\n",
       "      <td>163</td>\n",
       "      <td>191</td>\n",
       "      <td>229</td>\n",
       "      <td>196</td>\n",
       "      <td>247</td>\n",
       "      <td>226</td>\n",
       "      <td>178</td>\n",
       "      <td>172</td>\n",
       "      <td>123</td>\n",
       "      <td>147</td>\n",
       "      <td>145</td>\n",
       "      <td>159</td>\n",
       "    </tr>\n",
       "    <tr>\n",
       "      <th>Sunday</th>\n",
       "      <td>93</td>\n",
       "      <td>149</td>\n",
       "      <td>157</td>\n",
       "      <td>109</td>\n",
       "      <td>124</td>\n",
       "      <td>117</td>\n",
       "      <td>116</td>\n",
       "      <td>88</td>\n",
       "      <td>83</td>\n",
       "      <td>75</td>\n",
       "      <td>79</td>\n",
       "      <td>99</td>\n",
       "    </tr>\n",
       "  </tbody>\n",
       "</table>\n",
       "</div>"
      ],
      "text/plain": [
       "MONTH        Jan  Feb  Mar  Apr  May  Jun  Jul  Aug  Sep  Oct  Nov  Dec\n",
       "DAY_OF_WEEK                                                            \n",
       "Monday        81   74   78   86   82   63   83   62   52   48   55   50\n",
       "Tuesday      119   77  147  130  132  161  154  100   87  111   78   92\n",
       "Wednesday    165  157  168  167  237  177  180  140  120  145  128  133\n",
       "Thursday     187  182  177  183  208  205  154  195  159  148  122  129\n",
       "Friday       176  186  200  178  249  196  133  177  185  146  140  117\n",
       "Saturday     163  191  229  196  247  226  178  172  123  147  145  159\n",
       "Sunday        93  149  157  109  124  117  116   88   83   75   79   99"
      ]
     },
     "execution_count": 40,
     "metadata": {},
     "output_type": "execute_result"
    }
   ],
   "source": [
    "DayMonth"
   ]
  },
  {
   "cell_type": "code",
   "execution_count": 41,
   "id": "638844f1",
   "metadata": {},
   "outputs": [
    {
     "data": {
      "text/plain": [
       "<AxesSubplot:xlabel='MONTH', ylabel='DAY_OF_WEEK'>"
      ]
     },
     "execution_count": 41,
     "metadata": {},
     "output_type": "execute_result"
    },
    {
     "data": {
      "image/png": "[encoded data removed]",
      "text/plain": [
       "<Figure size 432x288 with 2 Axes>"
      ]
     },
     "metadata": {
      "needs_background": "light"
     },
     "output_type": "display_data"
    }
   ],
   "source": [
    "sns.heatmap(DayMonth,cmap=\"BuPu\")"
   ]
  },
  {
   "cell_type": "code",
   "execution_count": 42,
   "id": "cbe48e91",
   "metadata": {},
   "outputs": [
    {
     "data": {
      "text/html": [
       "<div>\n",
       "<style scoped>\n",
       "    .dataframe tbody tr th:only-of-type {\n",
       "        vertical-align: middle;\n",
       "    }\n",
       "\n",
       "    .dataframe tbody tr th {\n",
       "        vertical-align: top;\n",
       "    }\n",
       "\n",
       "    .dataframe thead th {\n",
       "        text-align: right;\n",
       "    }\n",
       "</style>\n",
       "<table border=\"1\" class=\"dataframe\">\n",
       "  <thead>\n",
       "    <tr style=\"text-align: right;\">\n",
       "      <th>YEAR</th>\n",
       "      <th>2012</th>\n",
       "      <th>2013</th>\n",
       "      <th>2014</th>\n",
       "      <th>2015</th>\n",
       "      <th>2016</th>\n",
       "      <th>2017</th>\n",
       "      <th>2018</th>\n",
       "      <th>2019</th>\n",
       "      <th>2020</th>\n",
       "      <th>2021</th>\n",
       "    </tr>\n",
       "    <tr>\n",
       "      <th>MONTH</th>\n",
       "      <th></th>\n",
       "      <th></th>\n",
       "      <th></th>\n",
       "      <th></th>\n",
       "      <th></th>\n",
       "      <th></th>\n",
       "      <th></th>\n",
       "      <th></th>\n",
       "      <th></th>\n",
       "      <th></th>\n",
       "    </tr>\n",
       "  </thead>\n",
       "  <tbody>\n",
       "    <tr>\n",
       "      <th>Jan</th>\n",
       "      <td>253</td>\n",
       "      <td>186</td>\n",
       "      <td>228</td>\n",
       "      <td>18</td>\n",
       "      <td>12</td>\n",
       "      <td>29</td>\n",
       "      <td>90</td>\n",
       "      <td>70</td>\n",
       "      <td>72</td>\n",
       "      <td>26</td>\n",
       "    </tr>\n",
       "    <tr>\n",
       "      <th>Feb</th>\n",
       "      <td>243</td>\n",
       "      <td>180</td>\n",
       "      <td>214</td>\n",
       "      <td>33</td>\n",
       "      <td>23</td>\n",
       "      <td>66</td>\n",
       "      <td>98</td>\n",
       "      <td>73</td>\n",
       "      <td>62</td>\n",
       "      <td>24</td>\n",
       "    </tr>\n",
       "    <tr>\n",
       "      <th>Mar</th>\n",
       "      <td>287</td>\n",
       "      <td>217</td>\n",
       "      <td>279</td>\n",
       "      <td>20</td>\n",
       "      <td>46</td>\n",
       "      <td>76</td>\n",
       "      <td>87</td>\n",
       "      <td>73</td>\n",
       "      <td>41</td>\n",
       "      <td>30</td>\n",
       "    </tr>\n",
       "    <tr>\n",
       "      <th>Apr</th>\n",
       "      <td>288</td>\n",
       "      <td>177</td>\n",
       "      <td>252</td>\n",
       "      <td>20</td>\n",
       "      <td>45</td>\n",
       "      <td>77</td>\n",
       "      <td>82</td>\n",
       "      <td>64</td>\n",
       "      <td>18</td>\n",
       "      <td>26</td>\n",
       "    </tr>\n",
       "    <tr>\n",
       "      <th>May</th>\n",
       "      <td>381</td>\n",
       "      <td>204</td>\n",
       "      <td>325</td>\n",
       "      <td>11</td>\n",
       "      <td>51</td>\n",
       "      <td>85</td>\n",
       "      <td>55</td>\n",
       "      <td>77</td>\n",
       "      <td>72</td>\n",
       "      <td>18</td>\n",
       "    </tr>\n",
       "    <tr>\n",
       "      <th>Jun</th>\n",
       "      <td>252</td>\n",
       "      <td>199</td>\n",
       "      <td>325</td>\n",
       "      <td>23</td>\n",
       "      <td>58</td>\n",
       "      <td>68</td>\n",
       "      <td>146</td>\n",
       "      <td>45</td>\n",
       "      <td>14</td>\n",
       "      <td>15</td>\n",
       "    </tr>\n",
       "    <tr>\n",
       "      <th>Jul</th>\n",
       "      <td>273</td>\n",
       "      <td>265</td>\n",
       "      <td>152</td>\n",
       "      <td>31</td>\n",
       "      <td>55</td>\n",
       "      <td>48</td>\n",
       "      <td>60</td>\n",
       "      <td>68</td>\n",
       "      <td>10</td>\n",
       "      <td>36</td>\n",
       "    </tr>\n",
       "    <tr>\n",
       "      <th>Aug</th>\n",
       "      <td>266</td>\n",
       "      <td>232</td>\n",
       "      <td>49</td>\n",
       "      <td>30</td>\n",
       "      <td>57</td>\n",
       "      <td>77</td>\n",
       "      <td>80</td>\n",
       "      <td>77</td>\n",
       "      <td>40</td>\n",
       "      <td>26</td>\n",
       "    </tr>\n",
       "    <tr>\n",
       "      <th>Sep</th>\n",
       "      <td>220</td>\n",
       "      <td>190</td>\n",
       "      <td>45</td>\n",
       "      <td>21</td>\n",
       "      <td>55</td>\n",
       "      <td>55</td>\n",
       "      <td>109</td>\n",
       "      <td>59</td>\n",
       "      <td>23</td>\n",
       "      <td>32</td>\n",
       "    </tr>\n",
       "    <tr>\n",
       "      <th>Oct</th>\n",
       "      <td>243</td>\n",
       "      <td>222</td>\n",
       "      <td>42</td>\n",
       "      <td>16</td>\n",
       "      <td>56</td>\n",
       "      <td>68</td>\n",
       "      <td>51</td>\n",
       "      <td>65</td>\n",
       "      <td>37</td>\n",
       "      <td>20</td>\n",
       "    </tr>\n",
       "    <tr>\n",
       "      <th>Nov</th>\n",
       "      <td>205</td>\n",
       "      <td>149</td>\n",
       "      <td>27</td>\n",
       "      <td>15</td>\n",
       "      <td>68</td>\n",
       "      <td>83</td>\n",
       "      <td>69</td>\n",
       "      <td>54</td>\n",
       "      <td>34</td>\n",
       "      <td>43</td>\n",
       "    </tr>\n",
       "    <tr>\n",
       "      <th>Dec</th>\n",
       "      <td>208</td>\n",
       "      <td>206</td>\n",
       "      <td>17</td>\n",
       "      <td>31</td>\n",
       "      <td>53</td>\n",
       "      <td>61</td>\n",
       "      <td>75</td>\n",
       "      <td>67</td>\n",
       "      <td>27</td>\n",
       "      <td>34</td>\n",
       "    </tr>\n",
       "  </tbody>\n",
       "</table>\n",
       "</div>"
      ],
      "text/plain": [
       "YEAR   2012  2013  2014  2015  2016  2017  2018  2019  2020  2021\n",
       "MONTH                                                            \n",
       "Jan     253   186   228    18    12    29    90    70    72    26\n",
       "Feb     243   180   214    33    23    66    98    73    62    24\n",
       "Mar     287   217   279    20    46    76    87    73    41    30\n",
       "Apr     288   177   252    20    45    77    82    64    18    26\n",
       "May     381   204   325    11    51    85    55    77    72    18\n",
       "Jun     252   199   325    23    58    68   146    45    14    15\n",
       "Jul     273   265   152    31    55    48    60    68    10    36\n",
       "Aug     266   232    49    30    57    77    80    77    40    26\n",
       "Sep     220   190    45    21    55    55   109    59    23    32\n",
       "Oct     243   222    42    16    56    68    51    65    37    20\n",
       "Nov     205   149    27    15    68    83    69    54    34    43\n",
       "Dec     208   206    17    31    53    61    75    67    27    34"
      ]
     },
     "execution_count": 42,
     "metadata": {},
     "output_type": "execute_result"
    }
   ],
   "source": [
    "YearMonth"
   ]
  },
  {
   "cell_type": "code",
   "execution_count": 43,
   "id": "2fd1049d",
   "metadata": {},
   "outputs": [
    {
     "data": {
      "text/plain": [
       "<AxesSubplot:xlabel='YEAR', ylabel='MONTH'>"
      ]
     },
     "execution_count": 43,
     "metadata": {},
     "output_type": "execute_result"
    },
    {
     "data": {
      "image/png": "[encoded data removed]",
      "text/plain": [
       "<Figure size 432x288 with 2 Axes>"
      ]
     },
     "metadata": {
      "needs_background": "light"
     },
     "output_type": "display_data"
    }
   ],
   "source": [
    "sns.heatmap(YearMonth,cmap=\"BuPu\")"
   ]
  },
  {
   "cell_type": "markdown",
   "id": "8d770775",
   "metadata": {},
   "source": [
    "#### Different types of arrests"
   ]
  },
  {
   "cell_type": "code",
   "execution_count": 44,
   "id": "a8a478b6",
   "metadata": {},
   "outputs": [],
   "source": [
    "Month_arr = df.groupby(by=['MONTH','NEW_TYPES']).count()['CCN'].unstack()\n",
    "Day_arr = df.groupby(by=['DAY_OF_WEEK','NEW_TYPES']).count()['CCN'].unstack()\n",
    "Day_arr = Day_arr.rename(index=dictmap)"
   ]
  },
  {
   "cell_type": "code",
   "execution_count": 45,
   "id": "0e3cb92f",
   "metadata": {},
   "outputs": [
    {
     "data": {
      "text/plain": [
       "<AxesSubplot:xlabel='NEW_TYPES', ylabel='DAY_OF_WEEK'>"
      ]
     },
     "execution_count": 45,
     "metadata": {},
     "output_type": "execute_result"
    },
    {
     "data": {
      "image/png": "[encoded data removed]",
      "text/plain": [
       "<Figure size 432x288 with 2 Axes>"
      ]
     },
     "metadata": {
      "needs_background": "light"
     },
     "output_type": "display_data"
    }
   ],
   "source": [
    "sns.heatmap(Day_arr,cmap=\"BuPu\")"
   ]
  },
  {
   "cell_type": "code",
   "execution_count": 46,
   "id": "d45ae19f",
   "metadata": {},
   "outputs": [
    {
     "data": {
      "text/plain": [
       "<AxesSubplot:xlabel='NEW_TYPES', ylabel='MONTH'>"
      ]
     },
     "execution_count": 46,
     "metadata": {},
     "output_type": "execute_result"
    },
    {
     "data": {
      "image/png": "[encoded data removed]",
      "text/plain": [
       "<Figure size 432x288 with 2 Axes>"
      ]
     },
     "metadata": {
      "needs_background": "light"
     },
     "output_type": "display_data"
    }
   ],
   "source": [
    "sns.heatmap(Month_arr,cmap=\"BuPu\")"
   ]
  },
  {
   "cell_type": "markdown",
   "id": "86c42547",
   "metadata": {},
   "source": [
    "### 4).The word frequency within arrest descriptions."
   ]
  },
  {
   "cell_type": "code",
   "execution_count": 47,
   "id": "1733356b",
   "metadata": {
    "scrolled": true
   },
   "outputs": [
    {
     "data": {
      "text/plain": [
       "Ucsa Possession Marijuana                                                     3644\n",
       "Ucsa Poss Marijuana                                                           1720\n",
       "Ucsa Pwid Marijuana                                                           1665\n",
       "Distribution Of Marijuana-misd                                                1097\n",
       "Poss W/i To Dist Marijuana-misd                                                815\n",
       "Poss W/i To Dist Marijuana-fel                                                 628\n",
       "Poss W/i To Dist A Controlled Substance                                        493\n",
       "Consumption of marijuana in public space prohibited; impairment prohibited     489\n",
       "Consumption of marijuana in public space prohibited                            417\n",
       "Ucsa Distributing Marijuana                                                    250\n",
       "Distribution Of A Controlled Substance                                         170\n",
       "Public Consumption Of Marijuana                                                138\n",
       "Poss Of A Controlled Substance -misd                                            70\n",
       "Ucsa Dist Marijuana                                                             66\n",
       "Poss Of A Controlled Substance -felony                                          18\n",
       "Csa Pwid Marijuana                                                              12\n",
       "Possess Controlled Substance                                                     3\n",
       "Csa Distribution Marijuana                                                       3\n",
       "Manufacture Or Possessing W/intent To Manufacture A Controlled Substance         2\n",
       "Possession Of A Controlled Substance                                             2\n",
       "Manufacture, Distribute, Dispense, Possess A Controlled Substance                2\n",
       "Ucsa Distributing Other                                                          2\n",
       "Control Substance In Schedule I,II And Narcotics In Schedule III,IV,V            2\n",
       "Ucsa Pwid Cocaine/crack Cocaine                                                  2\n",
       "Conspiracy To Distribute Marijuana                                               2\n",
       "Ucsa Possession Other                                                            1\n",
       "Ucsa Pwid Other                                                                  1\n",
       "Ucsa Conspiracy To Distribute Marijuana                                          1\n",
       "Manufacture/possession/distrib-controlled Subs                                   1\n",
       "Name: DESCRIPTION, dtype: int64"
      ]
     },
     "execution_count": 47,
     "metadata": {},
     "output_type": "execute_result"
    }
   ],
   "source": [
    "df['DESCRIPTION'].value_counts()"
   ]
  },
  {
   "cell_type": "markdown",
   "id": "e71acbbf",
   "metadata": {},
   "source": [
    "Let's analyze which words policemen commonly use in descriptions related to offenses."
   ]
  },
  {
   "cell_type": "code",
   "execution_count": 48,
   "id": "3f38f3cc",
   "metadata": {},
   "outputs": [
    {
     "name": "stdout",
     "output_type": "stream",
     "text": [
      "Counter({'marijuana': 61614478, 'ucsa': 58705360, 'possession': 28537766, 'poss': 18796478, 'pwid': 13243631, 'dist': 4477543, 'marijuana-misd': 4148655, 'w/i': 3898735, 'distribution': 2918573, 'public': 2829622, 'consumption': 2829622, 'space': 2241099, 'prohibited': 2241099, 'distributing': 1682377, 'prohibited;': 1651202, 'impairment': 1651202, 'substance': 1599164, 'controlled': 1591249, 'marijuana-fel': 1249008, '-misd': 128192, 'csa': 92984, '-felony': 39330, 'conspiracy': 21751, 'distribute': 21751, 'other': 16189, 'schedule': 15830, 'manufacture': 13712, 'possess': 11951, 'cocaine/crack': 8234, 'cocaine': 8234, 'control': 7915, 'narcotics': 7915, 'manufacture,': 6990, 'distribute,': 6990, 'dispense,': 6990, 'possessing': 6856, 'w/intent': 6856, 'manufacture/possession/distrib-controlled': 2458, 'subs': 2458})\n"
     ]
    }
   ],
   "source": [
    "# Create a list\n",
    "\n",
    "sentense = []\n",
    "words = []\n",
    "\n",
    "for desc in df['DESCRIPTION'].str.split():\n",
    "    sentense.append(desc)\n",
    "    for li in sentense:\n",
    "        for word in li:\n",
    "            words.append(word.lower())\n",
    "\n",
    "# Count of words without articles\n",
    "ignore = {'the','a','if','in','it','of','or','to','and','i,ii','iii,iv,v','iii,iv,v','W'}\n",
    "count_words = Counter(x for x in words if x not in ignore)\n",
    "\n",
    "print(count_words)"
   ]
  },
  {
   "cell_type": "markdown",
   "id": "9fb908a6",
   "metadata": {},
   "source": [
    "**Some abbreviations:**\n",
    "\n",
    "* UCSA - “Uniform Controlled Substances Act”,\n",
    "\n",
    "* w/i - within,\n",
    "\n",
    "*  PWID - People who inject drugs,\n",
    "\n",
    "* marijuana-misd - Misdemeanors (they are generally less serious offenses than felonies). "
   ]
  },
  {
   "cell_type": "code",
   "execution_count": 49,
   "id": "c665b51b",
   "metadata": {},
   "outputs": [
    {
     "data": {
      "image/png": "[encoded data removed]",
      "text/plain": [
       "<Figure size 864x432 with 1 Axes>"
      ]
     },
     "metadata": {
      "needs_background": "light"
     },
     "output_type": "display_data"
    },
    {
     "data": {
      "text/plain": [
       "<Figure size 1440x1440 with 0 Axes>"
      ]
     },
     "metadata": {},
     "output_type": "display_data"
    }
   ],
   "source": [
    "# Create and generate a word cloud image:\n",
    "wordcloud = WordCloud(background_color=\"white\",                      \n",
    "                      max_words=100,collocations=False,\n",
    "                      stopwords = STOPWORDS).generate_from_frequencies(count_words)\n",
    "\n",
    "# Display the generated image:\n",
    "plt.figure(figsize=(12,6))\n",
    "plt.imshow(wordcloud)\n",
    "plt.axis(\"off\")\n",
    "plt.figure(figsize=(20,20))\n",
    "plt.show()"
   ]
  },
  {
   "cell_type": "markdown",
   "id": "b057f600",
   "metadata": {},
   "source": [
    "Let's create a DataFrame to be shure that our wordcloud is correct:"
   ]
  },
  {
   "cell_type": "code",
   "execution_count": 55,
   "id": "6cadbda8",
   "metadata": {},
   "outputs": [
    {
     "data": {
      "text/html": [
       "<div>\n",
       "<style scoped>\n",
       "    .dataframe tbody tr th:only-of-type {\n",
       "        vertical-align: middle;\n",
       "    }\n",
       "\n",
       "    .dataframe tbody tr th {\n",
       "        vertical-align: top;\n",
       "    }\n",
       "\n",
       "    .dataframe thead th {\n",
       "        text-align: right;\n",
       "    }\n",
       "</style>\n",
       "<table border=\"1\" class=\"dataframe\">\n",
       "  <thead>\n",
       "    <tr style=\"text-align: right;\">\n",
       "      <th></th>\n",
       "      <th>word</th>\n",
       "      <th>number</th>\n",
       "    </tr>\n",
       "  </thead>\n",
       "  <tbody>\n",
       "    <tr>\n",
       "      <th>2</th>\n",
       "      <td>marijuana</td>\n",
       "      <td>61614478</td>\n",
       "    </tr>\n",
       "    <tr>\n",
       "      <th>0</th>\n",
       "      <td>ucsa</td>\n",
       "      <td>58705360</td>\n",
       "    </tr>\n",
       "    <tr>\n",
       "      <th>1</th>\n",
       "      <td>possession</td>\n",
       "      <td>28537766</td>\n",
       "    </tr>\n",
       "    <tr>\n",
       "      <th>5</th>\n",
       "      <td>poss</td>\n",
       "      <td>18796478</td>\n",
       "    </tr>\n",
       "    <tr>\n",
       "      <th>3</th>\n",
       "      <td>pwid</td>\n",
       "      <td>13243631</td>\n",
       "    </tr>\n",
       "    <tr>\n",
       "      <th>8</th>\n",
       "      <td>dist</td>\n",
       "      <td>4477543</td>\n",
       "    </tr>\n",
       "    <tr>\n",
       "      <th>10</th>\n",
       "      <td>marijuana-misd</td>\n",
       "      <td>4148655</td>\n",
       "    </tr>\n",
       "    <tr>\n",
       "      <th>9</th>\n",
       "      <td>w/i</td>\n",
       "      <td>3898735</td>\n",
       "    </tr>\n",
       "    <tr>\n",
       "      <th>12</th>\n",
       "      <td>distribution</td>\n",
       "      <td>2918573</td>\n",
       "    </tr>\n",
       "    <tr>\n",
       "      <th>14</th>\n",
       "      <td>public</td>\n",
       "      <td>2829622</td>\n",
       "    </tr>\n",
       "    <tr>\n",
       "      <th>15</th>\n",
       "      <td>consumption</td>\n",
       "      <td>2829622</td>\n",
       "    </tr>\n",
       "    <tr>\n",
       "      <th>25</th>\n",
       "      <td>prohibited</td>\n",
       "      <td>2241099</td>\n",
       "    </tr>\n",
       "    <tr>\n",
       "      <th>22</th>\n",
       "      <td>space</td>\n",
       "      <td>2241099</td>\n",
       "    </tr>\n",
       "    <tr>\n",
       "      <th>4</th>\n",
       "      <td>distributing</td>\n",
       "      <td>1682377</td>\n",
       "    </tr>\n",
       "    <tr>\n",
       "      <th>24</th>\n",
       "      <td>impairment</td>\n",
       "      <td>1651202</td>\n",
       "    </tr>\n",
       "    <tr>\n",
       "      <th>23</th>\n",
       "      <td>prohibited;</td>\n",
       "      <td>1651202</td>\n",
       "    </tr>\n",
       "    <tr>\n",
       "      <th>20</th>\n",
       "      <td>substance</td>\n",
       "      <td>1599164</td>\n",
       "    </tr>\n",
       "    <tr>\n",
       "      <th>19</th>\n",
       "      <td>controlled</td>\n",
       "      <td>1591249</td>\n",
       "    </tr>\n",
       "    <tr>\n",
       "      <th>11</th>\n",
       "      <td>marijuana-fel</td>\n",
       "      <td>1249008</td>\n",
       "    </tr>\n",
       "    <tr>\n",
       "      <th>21</th>\n",
       "      <td>-misd</td>\n",
       "      <td>128192</td>\n",
       "    </tr>\n",
       "    <tr>\n",
       "      <th>13</th>\n",
       "      <td>csa</td>\n",
       "      <td>92984</td>\n",
       "    </tr>\n",
       "    <tr>\n",
       "      <th>33</th>\n",
       "      <td>-felony</td>\n",
       "      <td>39330</td>\n",
       "    </tr>\n",
       "    <tr>\n",
       "      <th>7</th>\n",
       "      <td>distribute</td>\n",
       "      <td>21751</td>\n",
       "    </tr>\n",
       "    <tr>\n",
       "      <th>6</th>\n",
       "      <td>conspiracy</td>\n",
       "      <td>21751</td>\n",
       "    </tr>\n",
       "    <tr>\n",
       "      <th>18</th>\n",
       "      <td>other</td>\n",
       "      <td>16189</td>\n",
       "    </tr>\n",
       "    <tr>\n",
       "      <th>27</th>\n",
       "      <td>schedule</td>\n",
       "      <td>15830</td>\n",
       "    </tr>\n",
       "    <tr>\n",
       "      <th>34</th>\n",
       "      <td>manufacture</td>\n",
       "      <td>13712</td>\n",
       "    </tr>\n",
       "    <tr>\n",
       "      <th>32</th>\n",
       "      <td>possess</td>\n",
       "      <td>11951</td>\n",
       "    </tr>\n",
       "    <tr>\n",
       "      <th>16</th>\n",
       "      <td>cocaine/crack</td>\n",
       "      <td>8234</td>\n",
       "    </tr>\n",
       "    <tr>\n",
       "      <th>17</th>\n",
       "      <td>cocaine</td>\n",
       "      <td>8234</td>\n",
       "    </tr>\n",
       "    <tr>\n",
       "      <th>28</th>\n",
       "      <td>narcotics</td>\n",
       "      <td>7915</td>\n",
       "    </tr>\n",
       "    <tr>\n",
       "      <th>26</th>\n",
       "      <td>control</td>\n",
       "      <td>7915</td>\n",
       "    </tr>\n",
       "    <tr>\n",
       "      <th>31</th>\n",
       "      <td>dispense,</td>\n",
       "      <td>6990</td>\n",
       "    </tr>\n",
       "    <tr>\n",
       "      <th>30</th>\n",
       "      <td>distribute,</td>\n",
       "      <td>6990</td>\n",
       "    </tr>\n",
       "    <tr>\n",
       "      <th>29</th>\n",
       "      <td>manufacture,</td>\n",
       "      <td>6990</td>\n",
       "    </tr>\n",
       "    <tr>\n",
       "      <th>35</th>\n",
       "      <td>possessing</td>\n",
       "      <td>6856</td>\n",
       "    </tr>\n",
       "    <tr>\n",
       "      <th>36</th>\n",
       "      <td>w/intent</td>\n",
       "      <td>6856</td>\n",
       "    </tr>\n",
       "    <tr>\n",
       "      <th>37</th>\n",
       "      <td>manufacture/possession/distrib-controlled</td>\n",
       "      <td>2458</td>\n",
       "    </tr>\n",
       "    <tr>\n",
       "      <th>38</th>\n",
       "      <td>subs</td>\n",
       "      <td>2458</td>\n",
       "    </tr>\n",
       "  </tbody>\n",
       "</table>\n",
       "</div>"
      ],
      "text/plain": [
       "                                         word    number\n",
       "2                                   marijuana  61614478\n",
       "0                                        ucsa  58705360\n",
       "1                                  possession  28537766\n",
       "5                                        poss  18796478\n",
       "3                                        pwid  13243631\n",
       "8                                        dist   4477543\n",
       "10                             marijuana-misd   4148655\n",
       "9                                         w/i   3898735\n",
       "12                               distribution   2918573\n",
       "14                                     public   2829622\n",
       "15                                consumption   2829622\n",
       "25                                 prohibited   2241099\n",
       "22                                      space   2241099\n",
       "4                                distributing   1682377\n",
       "24                                 impairment   1651202\n",
       "23                                prohibited;   1651202\n",
       "20                                  substance   1599164\n",
       "19                                 controlled   1591249\n",
       "11                              marijuana-fel   1249008\n",
       "21                                      -misd    128192\n",
       "13                                        csa     92984\n",
       "33                                    -felony     39330\n",
       "7                                  distribute     21751\n",
       "6                                  conspiracy     21751\n",
       "18                                      other     16189\n",
       "27                                   schedule     15830\n",
       "34                                manufacture     13712\n",
       "32                                    possess     11951\n",
       "16                              cocaine/crack      8234\n",
       "17                                    cocaine      8234\n",
       "28                                  narcotics      7915\n",
       "26                                    control      7915\n",
       "31                                  dispense,      6990\n",
       "30                                distribute,      6990\n",
       "29                               manufacture,      6990\n",
       "35                                 possessing      6856\n",
       "36                                   w/intent      6856\n",
       "37  manufacture/possession/distrib-controlled      2458\n",
       "38                                       subs      2458"
      ]
     },
     "execution_count": 55,
     "metadata": {},
     "output_type": "execute_result"
    }
   ],
   "source": [
    "count_words_df = pd.DataFrame([count_words])\n",
    "count_words_df = pd.DataFrame.transpose(count_words_df)\n",
    "\n",
    "count_words_df.columns = ['number']\n",
    "count_words_df.reset_index(inplace=True)\n",
    "count_words_df.rename(columns = {'index':'word'}, inplace = True)\n",
    "\n",
    "count_words_df=count_words_df.sort_values('number',ascending=False)\n",
    "count_words_df"
   ]
  },
  {
   "cell_type": "markdown",
   "id": "1ece9e19",
   "metadata": {},
   "source": [
    "## CONCLUSIONS"
   ]
  },
  {
   "cell_type": "markdown",
   "id": "2baa9459",
   "metadata": {},
   "source": [
    "1. The districts 3D, 6D, and 7D are the leaders in terms of overall arrests. Specifically, 6D and 7D stand out as leaders in distribution-related offenses. However, when it comes to marijuana possession, the most frequently occurring districts are 3D and 6D.  \n",
    "2. In general, it can be observed that the possession of a small amount of marijuana was very frequent, with rare instances where arrested individuals had a significant quantity. Possession of a small amount of marijuana became legal after 2014. \n",
    "3. In the three years following the law changes, there was no increase in the number of arrests in any of the leading districts, when compared to the three years prior to the law changes.\n",
    "4. The decreasing trend was consistent for individual police offices within each of the leading districts.\n",
    "5. In most cases Black people were arrested most often. It is logically understandable because in Washington, D.C., approximately 46% of the population is Black, given the city's historical and demographic characteristics (based on data from the U.S. Census Bureau, 2021).\n",
    "6. Men are frequently involved in the distribution, possession, and consumption of marijuana then women.\n",
    "7. By analyzing the heatmaps, we can observe that the highest number of arrests occurs during the month of May and in the latter half of the week. Interestingly, Monday stands out as the least active day of the week in terms of arrests.\n",
    "8. Analyzing the heatmaps based on the type of arrest, it becomes evident that the possession of marijuana follows a seasonal pattern, peaking from March to July.\n",
    "9. The most frequent words and abbreviations in arrest descriptions are:\n",
    "* marijuana\n",
    "* ucsa (“Uniform Controlled Substances Act”)\n",
    "* possession\n",
    "* poss\n",
    "* pwid (People who inject drugs)\n",
    "* dist\n",
    "* marijuana-misd (Misdemeanors - they are generally less serious offenses than felonies)\n",
    "* w/i (within)\n",
    "* distribution\n",
    "* public"
   ]
  }
 ],
 "metadata": {
  "kernelspec": {
   "display_name": "Python 3 (ipykernel)",
   "language": "python",
   "name": "python3"
  },
  "language_info": {
   "codemirror_mode": {
    "name": "ipython",
    "version": 3
   },
   "file_extension": ".py",
   "mimetype": "text/x-python",
   "name": "python",
   "nbconvert_exporter": "python",
   "pygments_lexer": "ipython3",
   "version": "3.9.12"
  }
 },
 "nbformat": 4,
 "nbformat_minor": 5
}
